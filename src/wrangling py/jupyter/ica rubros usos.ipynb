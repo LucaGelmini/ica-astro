{
 "cells": [
  {
   "cell_type": "code",
   "execution_count": 1,
   "metadata": {},
   "outputs": [],
   "source": [
    "import pandas as pd\n",
    "import plotly.graph_objects as go\n",
    "import plotly.express as px"
   ]
  },
  {
   "cell_type": "code",
   "execution_count": 2,
   "metadata": {},
   "outputs": [],
   "source": [
    "df = pd.read_csv(\"../data/expo_impo_rubros_usos.csv\",sep=\",\", encoding=\"latin-1\")\n",
    "df.valor = df.valor / 1000000 #En millones de USD\n",
    "ultimo_anio = df.sort_values([\"anio\",\"mes\"],ascending=True).anio.iloc[-1]\n",
    "ultimo_mes = df.sort_values([\"anio\",\"mes\"],ascending=True).mes.iloc[-1]"
   ]
  },
  {
   "cell_type": "code",
   "execution_count": 3,
   "metadata": {},
   "outputs": [
    {
     "data": {
      "text/html": [
       "<div>\n",
       "<style scoped>\n",
       "    .dataframe tbody tr th:only-of-type {\n",
       "        vertical-align: middle;\n",
       "    }\n",
       "\n",
       "    .dataframe tbody tr th {\n",
       "        vertical-align: top;\n",
       "    }\n",
       "\n",
       "    .dataframe thead th {\n",
       "        text-align: right;\n",
       "    }\n",
       "</style>\n",
       "<table border=\"1\" class=\"dataframe\">\n",
       "  <thead>\n",
       "    <tr style=\"text-align: right;\">\n",
       "      <th></th>\n",
       "      <th>comercio</th>\n",
       "      <th>anio</th>\n",
       "      <th>rubro_uso</th>\n",
       "      <th>valor</th>\n",
       "      <th>Participación porcentual</th>\n",
       "      <th>Variación porcentual</th>\n",
       "    </tr>\n",
       "  </thead>\n",
       "  <tbody>\n",
       "    <tr>\n",
       "      <th>0</th>\n",
       "      <td>Importaciones</td>\n",
       "      <td>2022</td>\n",
       "      <td>Bienes de capital (BK)</td>\n",
       "      <td>11581.759781</td>\n",
       "      <td>0.151409</td>\n",
       "      <td>0.285070</td>\n",
       "    </tr>\n",
       "    <tr>\n",
       "      <th>1</th>\n",
       "      <td>Importaciones</td>\n",
       "      <td>2022</td>\n",
       "      <td>Bienes de consumo (BC)</td>\n",
       "      <td>7890.246971</td>\n",
       "      <td>0.103150</td>\n",
       "      <td>0.214434</td>\n",
       "    </tr>\n",
       "    <tr>\n",
       "      <th>2</th>\n",
       "      <td>Importaciones</td>\n",
       "      <td>2022</td>\n",
       "      <td>Bienes intermedios (BI)</td>\n",
       "      <td>28160.712044</td>\n",
       "      <td>0.368147</td>\n",
       "      <td>0.199985</td>\n",
       "    </tr>\n",
       "    <tr>\n",
       "      <th>3</th>\n",
       "      <td>Importaciones</td>\n",
       "      <td>2022</td>\n",
       "      <td>Combustibles y lubricantes (CyL)</td>\n",
       "      <td>12419.348375</td>\n",
       "      <td>0.162359</td>\n",
       "      <td>1.418387</td>\n",
       "    </tr>\n",
       "    <tr>\n",
       "      <th>4</th>\n",
       "      <td>Importaciones</td>\n",
       "      <td>2022</td>\n",
       "      <td>Piezas y accesorios para bienes de capital (PyA)</td>\n",
       "      <td>14011.434447</td>\n",
       "      <td>0.183173</td>\n",
       "      <td>0.301761</td>\n",
       "    </tr>\n",
       "    <tr>\n",
       "      <th>5</th>\n",
       "      <td>Importaciones</td>\n",
       "      <td>2022</td>\n",
       "      <td>Resto</td>\n",
       "      <td>561.437307</td>\n",
       "      <td>0.007340</td>\n",
       "      <td>0.047629</td>\n",
       "    </tr>\n",
       "    <tr>\n",
       "      <th>6</th>\n",
       "      <td>Importaciones</td>\n",
       "      <td>2022</td>\n",
       "      <td>Vehículos automotores de pasajeros (VA)</td>\n",
       "      <td>1868.148928</td>\n",
       "      <td>0.024422</td>\n",
       "      <td>0.200522</td>\n",
       "    </tr>\n",
       "    <tr>\n",
       "      <th>7</th>\n",
       "      <td>Exportaciones</td>\n",
       "      <td>2022</td>\n",
       "      <td>Combustibles y energía (CyE)</td>\n",
       "      <td>7551.172719</td>\n",
       "      <td>0.091759</td>\n",
       "      <td>0.621483</td>\n",
       "    </tr>\n",
       "    <tr>\n",
       "      <th>8</th>\n",
       "      <td>Exportaciones</td>\n",
       "      <td>2022</td>\n",
       "      <td>Manufacturas de origen agropecuario (MOA)</td>\n",
       "      <td>30766.793119</td>\n",
       "      <td>0.373866</td>\n",
       "      <td>0.075332</td>\n",
       "    </tr>\n",
       "    <tr>\n",
       "      <th>9</th>\n",
       "      <td>Exportaciones</td>\n",
       "      <td>2022</td>\n",
       "      <td>Manufacturas de origen industrial (MOI)</td>\n",
       "      <td>21389.407598</td>\n",
       "      <td>0.259916</td>\n",
       "      <td>0.186799</td>\n",
       "    </tr>\n",
       "    <tr>\n",
       "      <th>10</th>\n",
       "      <td>Exportaciones</td>\n",
       "      <td>2022</td>\n",
       "      <td>Productos primarios (PP)</td>\n",
       "      <td>22586.198217</td>\n",
       "      <td>0.274459</td>\n",
       "      <td>0.126151</td>\n",
       "    </tr>\n",
       "  </tbody>\n",
       "</table>\n",
       "</div>"
      ],
      "text/plain": [
       "         comercio  anio                                         rubro_uso  \\\n",
       "0   Importaciones  2022                            Bienes de capital (BK)   \n",
       "1   Importaciones  2022                            Bienes de consumo (BC)   \n",
       "2   Importaciones  2022                           Bienes intermedios (BI)   \n",
       "3   Importaciones  2022                  Combustibles y lubricantes (CyL)   \n",
       "4   Importaciones  2022  Piezas y accesorios para bienes de capital (PyA)   \n",
       "5   Importaciones  2022                                             Resto   \n",
       "6   Importaciones  2022           Vehículos automotores de pasajeros (VA)   \n",
       "7   Exportaciones  2022                      Combustibles y energía (CyE)   \n",
       "8   Exportaciones  2022         Manufacturas de origen agropecuario (MOA)   \n",
       "9   Exportaciones  2022           Manufacturas de origen industrial (MOI)   \n",
       "10  Exportaciones  2022                          Productos primarios (PP)   \n",
       "\n",
       "           valor  Participación porcentual  Variación porcentual  \n",
       "0   11581.759781                  0.151409              0.285070  \n",
       "1    7890.246971                  0.103150              0.214434  \n",
       "2   28160.712044                  0.368147              0.199985  \n",
       "3   12419.348375                  0.162359              1.418387  \n",
       "4   14011.434447                  0.183173              0.301761  \n",
       "5     561.437307                  0.007340              0.047629  \n",
       "6    1868.148928                  0.024422              0.200522  \n",
       "7    7551.172719                  0.091759              0.621483  \n",
       "8   30766.793119                  0.373866              0.075332  \n",
       "9   21389.407598                  0.259916              0.186799  \n",
       "10  22586.198217                  0.274459              0.126151  "
      ]
     },
     "execution_count": 3,
     "metadata": {},
     "output_type": "execute_result"
    }
   ],
   "source": [
    "#Funciones para encontrar las tablas agrupadas\n",
    "\n",
    "def genera_uso_rubro_mensual(df, comercio):\n",
    "    valuacion = \"Importaciones\" if comercio == \"impo\" else \"Exportaciones\"\n",
    "    df_separada = df[df.comercio == valuacion].reset_index(drop=True)\n",
    "    df_separada[\"Participación porcentual\"] = df_separada['valor'] / df_separada.groupby([\"anio\",\"mes\"])['valor'].transform('sum')\n",
    "    df_separada[\"Variación porcentual\"] = df_separada.groupby(['rubro_uso'])[\"valor\"].pct_change(12,fill_method=None)\n",
    "    df_separada = df_separada[(df_separada.anio == ultimo_anio) & (df_separada.mes == ultimo_mes)].reset_index(drop = True)\n",
    "    return df_separada\n",
    "\n",
    "def genera_uso_rubro_acumulada(df, comercio):\n",
    "    valuacion = \"Importaciones\" if comercio == \"impo\" else \"Exportaciones\"\n",
    "    df_separada = df[df.comercio == valuacion].reset_index(drop=True)\n",
    "    df_separada = df_separada[df_separada.mes <= ultimo_mes].reset_index(drop = True)\n",
    "    df_separada = df_separada.groupby([\"comercio\",\"anio\",\"rubro_uso\"],as_index=False).sum()\n",
    "    df_separada[\"Participación porcentual\"] = df_separada['valor'] / df_separada.groupby([\"anio\"])['valor'].transform('sum')\n",
    "    df_separada[\"Variación porcentual\"] = df_separada.groupby(['rubro_uso'])[\"valor\"].pct_change(1,fill_method=None)\n",
    "    df_separada = df_separada[(df_separada.anio == ultimo_anio)].reset_index(drop = True)\n",
    "    return df_separada\n",
    "\n",
    "def genera_uso_rubro_agrupada():\n",
    "    usos_mensual = genera_uso_rubro_mensual(df, \"impo\")\n",
    "    rubros_mensual = genera_uso_rubro_mensual(df, \"expo\")\n",
    "    df_mensual = pd.concat([usos_mensual, rubros_mensual]).reset_index(drop=True)\n",
    "    usos_acumulada = genera_uso_rubro_acumulada(df, \"impo\")\n",
    "    rubros_acumulada = genera_uso_rubro_acumulada(df, \"expo\")\n",
    "    df_acumulada = pd.concat([usos_acumulada, rubros_acumulada]).reset_index(drop=True).drop(\"mes\",axis=1)\n",
    "    return df_mensual, df_acumulada\n",
    "\n",
    "df_mensual, df_acumulada = genera_uso_rubro_agrupada()\n",
    "df_acumulada"
   ]
  },
  {
   "cell_type": "code",
   "execution_count": 4,
   "metadata": {},
   "outputs": [],
   "source": [
    "DIC_MESES = {\n",
    "    1:\"enero\",\n",
    "    2:\"febrero\",\n",
    "    3:\"marzo\",\n",
    "    4:\"abril\",\n",
    "    5:\"mayo\",\n",
    "    6:\"junio\",\n",
    "    7:\"julio\",\n",
    "    8:\"agosto\",\n",
    "    9:\"septiembre\",\n",
    "    10:\"octubre\",\n",
    "    11: \"noviembre\",\n",
    "    12: \"diciembre\"\n",
    "}\n"
   ]
  },
  {
   "cell_type": "code",
   "execution_count": 5,
   "metadata": {},
   "outputs": [
    {
     "name": "stderr",
     "output_type": "stream",
     "text": [
      "c:\\Users\\mbasualdo\\.conda\\envs\\indec\\lib\\site-packages\\plotly\\express\\_core.py:1637: FutureWarning: The frame.append method is deprecated and will be removed from pandas in a future version. Use pandas.concat instead.\n",
      "  df_all_trees = df_all_trees.append(df_tree, ignore_index=True)\n",
      "c:\\Users\\mbasualdo\\.conda\\envs\\indec\\lib\\site-packages\\plotly\\express\\_core.py:1637: FutureWarning: The frame.append method is deprecated and will be removed from pandas in a future version. Use pandas.concat instead.\n",
      "  df_all_trees = df_all_trees.append(df_tree, ignore_index=True)\n"
     ]
    },
    {
     "data": {
      "application/vnd.plotly.v1+json": {
       "config": {
        "plotlyServerURL": "https://plot.ly"
       },
       "data": [
        {
         "branchvalues": "total",
         "customdata": [
          [
           "Importaciones"
          ],
          [
           "Exportaciones"
          ],
          [
           "Importaciones"
          ],
          [
           "Importaciones"
          ],
          [
           "Importaciones"
          ],
          [
           "Importaciones"
          ],
          [
           "Importaciones"
          ],
          [
           "Exportaciones"
          ],
          [
           "Importaciones"
          ],
          [
           "Exportaciones"
          ],
          [
           "Exportaciones"
          ],
          [
           "Exportaciones"
          ],
          [
           "Importaciones"
          ]
         ],
         "domain": {
          "x": [
           0,
           1
          ],
          "y": [
           0,
           1
          ]
         },
         "hovertemplate": "<b>%{hovertext}</b><br><br>labels=%{label}<br>valor=%{value}<br>parent=%{parent}<br>id=%{id}<br>comercio=%{customdata[0]}<extra></extra>",
         "hovertext": [
          "Importaciones",
          "Exportaciones",
          "Importaciones",
          "Importaciones",
          "Importaciones",
          "Importaciones",
          "Importaciones",
          "Exportaciones",
          "Importaciones",
          "Exportaciones",
          "Exportaciones",
          "Exportaciones",
          "Importaciones"
         ],
         "ids": [
          "Importaciones/Piezas y accesorios para bienes de capital (PyA)",
          "Exportaciones/Productos primarios (PP)",
          "Importaciones/Resto",
          "Importaciones/Vehículos automotores de pasajeros (VA)",
          "Importaciones/Bienes de capital (BK)",
          "Importaciones/Bienes de consumo (BC)",
          "Importaciones/Bienes intermedios (BI)",
          "Exportaciones/Combustibles y energía (CyE)",
          "Importaciones/Combustibles y lubricantes (CyL)",
          "Exportaciones/Manufacturas de origen agropecuario (MOA)",
          "Exportaciones/Manufacturas de origen industrial (MOI)",
          "Exportaciones",
          "Importaciones"
         ],
         "labels": [
          "Piezas y accesorios para bienes de capital (PyA)",
          "Productos primarios (PP)",
          "Resto",
          "Vehículos automotores de pasajeros (VA)",
          "Bienes de capital (BK)",
          "Bienes de consumo (BC)",
          "Bienes intermedios (BI)",
          "Combustibles y energía (CyE)",
          "Combustibles y lubricantes (CyL)",
          "Manufacturas de origen agropecuario (MOA)",
          "Manufacturas de origen industrial (MOI)",
          "Exportaciones",
          "Importaciones"
         ],
         "marker": {
          "colors": [
           "#636efa",
           "#EF553B",
           "#636efa",
           "#636efa",
           "#636efa",
           "#636efa",
           "#636efa",
           "#EF553B",
           "#636efa",
           "#EF553B",
           "#EF553B",
           "#EF553B",
           "#636efa"
          ]
         },
         "maxdepth": 2,
         "name": "",
         "parents": [
          "Importaciones",
          "Exportaciones",
          "Importaciones",
          "Importaciones",
          "Importaciones",
          "Importaciones",
          "Importaciones",
          "Exportaciones",
          "Importaciones",
          "Exportaciones",
          "Exportaciones",
          "",
          ""
         ],
         "type": "sunburst",
         "values": [
          14011.434447489999,
          22586.1982171,
          561.4373071,
          1868.14892823,
          11581.75978112,
          7890.2469713,
          28160.712043699998,
          7551.17271946,
          12419.34837544,
          30766.7931193,
          21389.4075982,
          82293.57165406,
          76493.08785437999
         ]
        }
       ],
       "layout": {
        "font": {
         "family": "verdana"
        },
        "legend": {
         "tracegroupgap": 0
        },
        "margin": {
         "t": 60
        },
        "separators": ",.",
        "template": {},
        "title": {
         "text": "Millones de dólares comercializados según rubros y usos económicos<br>Acumulado hasta noviembre de 2022"
        }
       }
      }
     },
     "metadata": {},
     "output_type": "display_data"
    }
   ],
   "source": [
    "import plotly.express as px\n",
    "fig = px.sunburst(df_acumulada, path=['comercio', 'rubro_uso'], values='valor', color='comercio',\n",
    "                  hover_name = \"comercio\",\n",
    "                  maxdepth=2,\n",
    "                #   hover_data=\n",
    "                  )\n",
    "fig.update_layout(title_text = f\"Millones de dólares comercializados según rubros y usos económicos<br>Acumulado hasta {DIC_MESES[ultimo_mes]} de {ultimo_anio}\",\n",
    "                  template = None, font_family = \"verdana\", separators = \",.\")\n",
    "fig.show()\n"
   ]
  },
  {
   "cell_type": "code",
   "execution_count": 6,
   "metadata": {},
   "outputs": [
    {
     "data": {
      "text/plain": [
       "Index(['comercio', 'anio', 'rubro_uso', 'valor', 'Participación porcentual',\n",
       "       'Variación porcentual'],\n",
       "      dtype='object')"
      ]
     },
     "execution_count": 6,
     "metadata": {},
     "output_type": "execute_result"
    }
   ],
   "source": [
    "df_acumulada.columns"
   ]
  },
  {
   "cell_type": "code",
   "execution_count": 20,
   "metadata": {},
   "outputs": [
    {
     "name": "stderr",
     "output_type": "stream",
     "text": [
      "C:\\Users\\mbasualdo\\AppData\\Local\\Temp\\ipykernel_8040\\3576934485.py:22: FutureWarning:\n",
      "\n",
      "The frame.append method is deprecated and will be removed from pandas in a future version. Use pandas.concat instead.\n",
      "\n",
      "C:\\Users\\mbasualdo\\AppData\\Local\\Temp\\ipykernel_8040\\3576934485.py:22: FutureWarning:\n",
      "\n",
      "The frame.append method is deprecated and will be removed from pandas in a future version. Use pandas.concat instead.\n",
      "\n",
      "C:\\Users\\mbasualdo\\AppData\\Local\\Temp\\ipykernel_8040\\3576934485.py:28: FutureWarning:\n",
      "\n",
      "The frame.append method is deprecated and will be removed from pandas in a future version. Use pandas.concat instead.\n",
      "\n",
      "C:\\Users\\mbasualdo\\AppData\\Local\\Temp\\ipykernel_8040\\3576934485.py:22: FutureWarning:\n",
      "\n",
      "The frame.append method is deprecated and will be removed from pandas in a future version. Use pandas.concat instead.\n",
      "\n",
      "C:\\Users\\mbasualdo\\AppData\\Local\\Temp\\ipykernel_8040\\3576934485.py:22: FutureWarning:\n",
      "\n",
      "The frame.append method is deprecated and will be removed from pandas in a future version. Use pandas.concat instead.\n",
      "\n",
      "C:\\Users\\mbasualdo\\AppData\\Local\\Temp\\ipykernel_8040\\3576934485.py:28: FutureWarning:\n",
      "\n",
      "The frame.append method is deprecated and will be removed from pandas in a future version. Use pandas.concat instead.\n",
      "\n"
     ]
    },
    {
     "data": {
      "application/vnd.plotly.v1+json": {
       "config": {
        "plotlyServerURL": "https://plot.ly"
       },
       "data": [
        {
         "branchvalues": "total",
         "hovertemplate": "<b>%{label} </b> <br> CIF: $%{value:,.2f}<br> Proporcion: %{color:.2%}",
         "labels": [
          "Bienes de capital (BK)",
          "Bienes de consumo (BC)",
          "Bienes intermedios (BI)",
          "Combustibles y energía (CyE)",
          "Combustibles y lubricantes (CyL)",
          "Manufacturas de origen agropecuario (MOA)",
          "Manufacturas de origen industrial (MOI)",
          "Piezas y accesorios para bienes de capital (PyA)",
          "Productos primarios (PP)",
          "Resto",
          "Vehículos automotores de pasajeros (VA)",
          "Exportaciones",
          "Importaciones",
          "ICA"
         ],
         "maxdepth": 2,
         "name": "",
         "parents": [
          "Importaciones",
          "Importaciones",
          "Importaciones",
          "Exportaciones",
          "Importaciones",
          "Exportaciones",
          "Exportaciones",
          "Importaciones",
          "Exportaciones",
          "Importaciones",
          "Importaciones",
          "ICA",
          "ICA",
          ""
         ],
         "type": "sunburst",
         "values": [
          1071.3873938,
          660.93026983,
          2083.5384092,
          579.0142965399999,
          455.42337336,
          2900.1179585,
          2096.5819431,
          1290.3003196,
          1513.2858189,
          26.11913371,
          161.91755512,
          7089.00001704,
          5749.61645462,
          12838.616471660001
         ]
        }
       ],
       "layout": {
        "font": {
         "family": "verdana"
        },
        "margin": {
         "b": 20,
         "l": 10,
         "r": 10,
         "t": 70
        },
        "separators": ",.",
        "template": {},
        "title": {
         "text": "Principales socios comerciales mes de noviembre"
        }
       }
      }
     },
     "metadata": {},
     "output_type": "display_data"
    }
   ],
   "source": [
    "def build_hierarchical_dataframe(df, levels, value_column, color_columns=None):\n",
    "    \"\"\"\n",
    "    Build a hierarchy of levels for Sunburst or Treemap charts.\n",
    "\n",
    "    Levels are given starting from the bottom to the top of the hierarchy,\n",
    "    ie the last level corresponds to the root.\n",
    "    \"\"\"\n",
    "    df_all_trees = pd.DataFrame(columns=['id', 'parent', 'value', 'color'])\n",
    "    total_pa_color = df.valor.sum()\n",
    "    for i, level in enumerate(levels):\n",
    "        df_tree = pd.DataFrame(columns=['id', 'parent', 'value', 'color'])\n",
    "        dfg = df.groupby(levels[i:]).sum()\n",
    "        dfg = dfg.reset_index()\n",
    "        df_tree['id'] = dfg[level].copy()\n",
    "        if i < len(levels) - 1:\n",
    "            df_tree['parent'] = dfg[levels[i+1]].copy()\n",
    "        else:\n",
    "            df_tree['parent'] = 'ICA'\n",
    "        df_tree['value'] = dfg[value_column]\n",
    "        \n",
    "        # df_tree['color'] = dfg[color_columns]/total_pa_color\n",
    "        df_all_trees = df_all_trees.append(df_tree, ignore_index=True)\n",
    "        # df_all_trees = pd.concat([df_all_trees,df_tree] ,ignore_index=True)\n",
    "    total = pd.Series(dict(id='ICA', parent='',\n",
    "                              value=df[value_column].sum(),\n",
    "                            #   color=df[color_columns]\n",
    "                            ))\n",
    "    df_all_trees = df_all_trees.append(total, ignore_index=True)\n",
    "    #para reemplazar el nan del total\n",
    "    # df_all_trees.color.iloc[-1] = 1\n",
    "    # df_all_trees =pd.concat([df_all_trees,total], ignore_index=True)\n",
    "    return df_all_trees\n",
    "\n",
    "def plot_sunburst_socios(df_impo, acumulado:bool):\n",
    "    fecha = F\"acumulado hasta {DIC_MESES[ultimo_mes]}\" if acumulado else F\"mes de {DIC_MESES[ultimo_mes]}\"\n",
    "    socios_sas_mensual_tree = build_hierarchical_dataframe(df=df_impo, levels=[\"rubro_uso\", \"comercio\"],value_column=\"valor\", color_columns = \"valor\")\n",
    "\n",
    "    fig = go.Figure(go.Sunburst(\n",
    "        labels=socios_sas_mensual_tree['id'],\n",
    "        parents=socios_sas_mensual_tree['parent'],\n",
    "        values=socios_sas_mensual_tree['value'],\n",
    "        branchvalues='total',\n",
    "        marker=dict(\n",
    "            # colors=socios_sas_mensual_tree['color'],\n",
    "            # colorscale='Sunsetdark',\n",
    "            # cmid=average_score\n",
    "            ),\n",
    "        hovertemplate='<b>%{label} </b> <br> CIF: $%{value:,.2f}<br> Proporcion: %{color:.2%}', #Me jode la proporcion, sí o sí entra por color\n",
    "        name='',\n",
    "        maxdepth=2\n",
    "        ))\n",
    "    fig.update_layout(title_text = f\"Principales socios comerciales {fecha}\", template = None,\n",
    "                    margin = {\"t\":70, \"b\":20, \"l\":10, \"r\":10},separators = \",.\" ,\n",
    "                    #   uniformtext=dict(minsize=10, mode='hide'),\n",
    "                    font_family = \"verdana\",\n",
    "                    # paper_bgcolor='rgba(0,0,0,0)',\n",
    "                    ) \n",
    "    \n",
    "    return fig\n",
    "\n",
    "plot_sunburst_socios(df_acumulada, acumulado=True)\n",
    "plot_sunburst_socios(df_mensual, acumulado=False)"
   ]
  }
 ],
 "metadata": {
  "kernelspec": {
   "display_name": "indec",
   "language": "python",
   "name": "python3"
  },
  "language_info": {
   "codemirror_mode": {
    "name": "ipython",
    "version": 3
   },
   "file_extension": ".py",
   "mimetype": "text/x-python",
   "name": "python",
   "nbconvert_exporter": "python",
   "pygments_lexer": "ipython3",
   "version": "3.10.4"
  },
  "orig_nbformat": 4,
  "vscode": {
   "interpreter": {
    "hash": "8e76e384a9df139c1746ba138f5ce3f6d0babc035eebae6bb58adb8dce6b6867"
   }
  }
 },
 "nbformat": 4,
 "nbformat_minor": 2
}
