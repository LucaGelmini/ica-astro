{
 "cells": [
  {
   "cell_type": "code",
   "execution_count": 1,
   "metadata": {},
   "outputs": [],
   "source": [
    "import pandas as pd\n",
    "import plotly.express as px\n",
    "import plotly.io as io"
   ]
  },
  {
   "cell_type": "code",
   "execution_count": 2,
   "metadata": {},
   "outputs": [
    {
     "data": {
      "text/html": [
       "<div>\n",
       "<style scoped>\n",
       "    .dataframe tbody tr th:only-of-type {\n",
       "        vertical-align: middle;\n",
       "    }\n",
       "\n",
       "    .dataframe tbody tr th {\n",
       "        vertical-align: top;\n",
       "    }\n",
       "\n",
       "    .dataframe thead th {\n",
       "        text-align: right;\n",
       "    }\n",
       "</style>\n",
       "<table border=\"1\" class=\"dataframe\">\n",
       "  <thead>\n",
       "    <tr style=\"text-align: right;\">\n",
       "      <th></th>\n",
       "      <th>Usos</th>\n",
       "      <th>Octubre 2022*</th>\n",
       "      <th>Octubre 2021*</th>\n",
       "    </tr>\n",
       "  </thead>\n",
       "  <tbody>\n",
       "    <tr>\n",
       "      <th>0</th>\n",
       "      <td>Total</td>\n",
       "      <td>6074</td>\n",
       "      <td>5247</td>\n",
       "    </tr>\n",
       "    <tr>\n",
       "      <th>1</th>\n",
       "      <td>BK</td>\n",
       "      <td>996</td>\n",
       "      <td>869</td>\n",
       "    </tr>\n",
       "    <tr>\n",
       "      <th>2</th>\n",
       "      <td>BI</td>\n",
       "      <td>2334</td>\n",
       "      <td>2227</td>\n",
       "    </tr>\n",
       "    <tr>\n",
       "      <th>3</th>\n",
       "      <td>CyL</td>\n",
       "      <td>601</td>\n",
       "      <td>393</td>\n",
       "    </tr>\n",
       "    <tr>\n",
       "      <th>4</th>\n",
       "      <td>PyA</td>\n",
       "      <td>1231</td>\n",
       "      <td>991</td>\n",
       "    </tr>\n",
       "    <tr>\n",
       "      <th>5</th>\n",
       "      <td>BC</td>\n",
       "      <td>676</td>\n",
       "      <td>606</td>\n",
       "    </tr>\n",
       "    <tr>\n",
       "      <th>6</th>\n",
       "      <td>VA</td>\n",
       "      <td>202</td>\n",
       "      <td>104</td>\n",
       "    </tr>\n",
       "    <tr>\n",
       "      <th>7</th>\n",
       "      <td>Resto</td>\n",
       "      <td>33</td>\n",
       "      <td>57</td>\n",
       "    </tr>\n",
       "  </tbody>\n",
       "</table>\n",
       "</div>"
      ],
      "text/plain": [
       "    Usos  Octubre 2022* Octubre 2021*\n",
       "0  Total           6074          5247\n",
       "1     BK            996           869\n",
       "2     BI           2334          2227\n",
       "3    CyL            601           393\n",
       "4    PyA           1231           991\n",
       "5     BC            676           606\n",
       "6     VA            202           104\n",
       "7  Resto             33            57"
      ]
     },
     "execution_count": 2,
     "metadata": {},
     "output_type": "execute_result"
    }
   ],
   "source": [
    "df_grafico2_tabla = pd.read_excel(\"./data/ICA_esqueleto.xlsx\",sheet_name = \"graf2 impo.usos.\",skiprows=1)\n",
    "df_grafico2_tabla = df_grafico2_tabla[df_grafico2_tabla.columns[[0,1,2]]].dropna(axis=0)\n",
    "df_grafico2_tabla[df_grafico2_tabla.columns[1]] = df_grafico2_tabla[df_grafico2_tabla.columns[1]].astype(int)\n",
    "df_grafico2_tabla"
   ]
  },
  {
   "cell_type": "code",
   "execution_count": 48,
   "metadata": {},
   "outputs": [
    {
     "data": {
      "application/vnd.plotly.v1+json": {
       "config": {
        "plotlyServerURL": "https://plot.ly"
       },
       "data": [
        {
         "alignmentgroup": "True",
         "bingroup": "x",
         "histfunc": "sum",
         "hovertemplate": "Período: %{hover_data[0]} <br>Uso: %{x} <br>Dólares: $%{y}",
         "legendgroup": "Octubre 2021*",
         "marker": {
          "color": "#1F77B4",
          "pattern": {
           "shape": ""
          }
         },
         "name": "Octubre 2021*",
         "offsetgroup": "Octubre 2021*",
         "orientation": "v",
         "showlegend": true,
         "type": "histogram",
         "x": [
          "BK",
          "BI",
          "CyL",
          "PyA",
          "BC",
          "VA",
          "Resto"
         ],
         "xaxis": "x",
         "y": [
          869,
          2227,
          393,
          991,
          606,
          104,
          57
         ],
         "yaxis": "y"
        },
        {
         "alignmentgroup": "True",
         "bingroup": "x",
         "histfunc": "sum",
         "hovertemplate": "Período: %{hover_data[0]} <br>Uso: %{x} <br>Dólares: $%{y}",
         "legendgroup": "Octubre 2022*",
         "marker": {
          "color": "#FF7F0E",
          "pattern": {
           "shape": ""
          }
         },
         "name": "Octubre 2022*",
         "offsetgroup": "Octubre 2022*",
         "orientation": "v",
         "showlegend": true,
         "type": "histogram",
         "x": [
          "BK",
          "BI",
          "CyL",
          "PyA",
          "BC",
          "VA",
          "Resto"
         ],
         "xaxis": "x",
         "y": [
          996,
          2334,
          601,
          1231,
          676,
          202,
          33
         ],
         "yaxis": "y"
        }
       ],
       "layout": {
        "barmode": "group",
        "font": {
         "family": "georgia"
        },
        "legend": {
         "orientation": "h",
         "title": {
          "text": "Período"
         },
         "tracegroupgap": 0,
         "x": 0.3,
         "xanchor": "left",
         "y": 1.07,
         "yanchor": "top"
        },
        "margin": {
         "t": 60
        },
        "separators": ",.",
        "template": {
         "data": {
          "scatter": [
           {
            "type": "scatter"
           }
          ]
         }
        },
        "title": {
         "text": "Importación por usos económicos. Octubre de 2022 y octubre de 2021"
        },
        "xaxis": {
         "anchor": "y",
         "domain": [
          0,
          1
         ],
         "title": {
          "text": "Uso"
         }
        },
        "yaxis": {
         "anchor": "x",
         "domain": [
          0,
          1
         ],
         "tickformat": ",",
         "title": {
          "text": "En millones de USD"
         }
        }
       }
      }
     },
     "metadata": {},
     "output_type": "display_data"
    }
   ],
   "source": [
    "df_grafico2 = df_grafico2_tabla[[\"Usos\",\"Octubre 2021*\",\"Octubre 2022*\"]].melt(id_vars=\"Usos\",value_name=\"Dólares\",var_name=\"Período\")\n",
    "plot_impo_usos = px.histogram(df_grafico2[df_grafico2.Usos != \"Total\"], x = \"Usos\", y = \"Dólares\",color=\"Período\", barmode=\"group\", template=\"none\",\n",
    "                              hover_data =[\"Período\", \"Dólares\"],\n",
    "                              labels={\n",
    "                                     \"Usos\":\"Uso\",\n",
    "                                     \"sum of Dólares\": \"Dólares\"\n",
    "                              })\n",
    "plot_impo_usos.update_yaxes(tickformat = \",\",title_text='En millones de USD')\n",
    "plot_impo_usos.update_layout(separators=\",.\",font_family='georgia', title_text = \"Importación por usos económicos. Octubre de 2022 y octubre de 2021\",\n",
    "                  legend=dict(\n",
    "       yanchor=\"top\", orientation = \"h\",\n",
    "       y=1.07,\n",
    "       xanchor=\"left\",\n",
    "       x=0.3))\n",
    "plot_impo_usos.update_traces(hovertemplate='Período: %{hover_data[0]} <br>Uso: %{x} <br>Dólares: $%{y}')\n",
    "\n",
    "\n",
    "io.write_json(plot_impo_usos, file = \"../data/impo_usos.json\")\n",
    "plot_impo_usos"
   ]
  },
  {
   "cell_type": "code",
   "execution_count": 4,
   "metadata": {},
   "outputs": [
    {
     "data": {
      "text/html": [
       "<div>\n",
       "<style scoped>\n",
       "    .dataframe tbody tr th:only-of-type {\n",
       "        vertical-align: middle;\n",
       "    }\n",
       "\n",
       "    .dataframe tbody tr th {\n",
       "        vertical-align: top;\n",
       "    }\n",
       "\n",
       "    .dataframe thead th {\n",
       "        text-align: right;\n",
       "    }\n",
       "</style>\n",
       "<table border=\"1\" class=\"dataframe\">\n",
       "  <thead>\n",
       "    <tr style=\"text-align: right;\">\n",
       "      <th></th>\n",
       "      <th>Usos económicos, grandes categorías económicas (GCE) y  agregados especiales</th>\n",
       "      <th>Grandes categorías económicas (GCE) y  agregados especiales</th>\n",
       "      <th>Octubre 2022*</th>\n",
       "      <th>Octubre 2021*</th>\n",
       "      <th>OctubreOctubre, variación porcentual</th>\n",
       "      <th>Diez meses 2022*</th>\n",
       "      <th>Diez meses 2021*</th>\n",
       "      <th>Diez meses, variación porcentual</th>\n",
       "    </tr>\n",
       "  </thead>\n",
       "  <tbody>\n",
       "    <tr>\n",
       "      <th>1</th>\n",
       "      <td>Total general</td>\n",
       "      <td>-</td>\n",
       "      <td>6074</td>\n",
       "      <td>5247.0</td>\n",
       "      <td>15.8</td>\n",
       "      <td>70738</td>\n",
       "      <td>51201.0</td>\n",
       "      <td>38.2</td>\n",
       "    </tr>\n",
       "    <tr>\n",
       "      <th>2</th>\n",
       "      <td>Bienes de capital (BK)</td>\n",
       "      <td>Total</td>\n",
       "      <td>996</td>\n",
       "      <td>869.0</td>\n",
       "      <td>14.6</td>\n",
       "      <td>10510</td>\n",
       "      <td>8057.0</td>\n",
       "      <td>30.4</td>\n",
       "    </tr>\n",
       "    <tr>\n",
       "      <th>3</th>\n",
       "      <td>Bienes de capital (BK)</td>\n",
       "      <td>Bienes de capital, excluidos equipos de transp...</td>\n",
       "      <td>853</td>\n",
       "      <td>630.0</td>\n",
       "      <td>35.4</td>\n",
       "      <td>8118</td>\n",
       "      <td>5898.0</td>\n",
       "      <td>37.6</td>\n",
       "    </tr>\n",
       "    <tr>\n",
       "      <th>4</th>\n",
       "      <td>Bienes de capital (BK)</td>\n",
       "      <td>Computadoras y teléfonos</td>\n",
       "      <td>57</td>\n",
       "      <td>152.0</td>\n",
       "      <td>-62.5</td>\n",
       "      <td>1333</td>\n",
       "      <td>1227.0</td>\n",
       "      <td>8.6</td>\n",
       "    </tr>\n",
       "    <tr>\n",
       "      <th>5</th>\n",
       "      <td>Bienes de capital (BK)</td>\n",
       "      <td>Equipos de transporte industriales</td>\n",
       "      <td>86</td>\n",
       "      <td>87.0</td>\n",
       "      <td>-1.1</td>\n",
       "      <td>1060</td>\n",
       "      <td>933.0</td>\n",
       "      <td>13.6</td>\n",
       "    </tr>\n",
       "  </tbody>\n",
       "</table>\n",
       "</div>"
      ],
      "text/plain": [
       "  Usos económicos, grandes categorías económicas (GCE) y  agregados especiales  \\\n",
       "1                                      Total general                             \n",
       "2                             Bienes de capital (BK)                             \n",
       "3                             Bienes de capital (BK)                             \n",
       "4                             Bienes de capital (BK)                             \n",
       "5                             Bienes de capital (BK)                             \n",
       "\n",
       "  Grandes categorías económicas (GCE) y  agregados especiales Octubre 2022*  \\\n",
       "1                                                  -                   6074   \n",
       "2                                              Total                    996   \n",
       "3  Bienes de capital, excluidos equipos de transp...                    853   \n",
       "4                           Computadoras y teléfonos                     57   \n",
       "5                 Equipos de transporte industriales                     86   \n",
       "\n",
       "   Octubre 2021* OctubreOctubre, variación porcentual Diez meses 2022*  \\\n",
       "1         5247.0                                 15.8            70738   \n",
       "2          869.0                                 14.6            10510   \n",
       "3          630.0                                 35.4             8118   \n",
       "4          152.0                                -62.5             1333   \n",
       "5           87.0                                 -1.1             1060   \n",
       "\n",
       "   Diez meses 2021* Diez meses, variación porcentual  \n",
       "1           51201.0                             38.2  \n",
       "2            8057.0                             30.4  \n",
       "3            5898.0                             37.6  \n",
       "4            1227.0                              8.6  \n",
       "5             933.0                             13.6  "
      ]
     },
     "execution_count": 4,
     "metadata": {},
     "output_type": "execute_result"
    }
   ],
   "source": [
    "#Aclarar que es en millones de USD\n",
    "cuadro7 = pd.read_excel(\"./data/ICA_esqueleto.xlsx\",sheet_name=\"c7\",skiprows=4)[1:]\n",
    "cuadro7.head()"
   ]
  },
  {
   "cell_type": "code",
   "execution_count": 5,
   "metadata": {},
   "outputs": [
    {
     "data": {
      "text/html": [
       "<div>\n",
       "<style scoped>\n",
       "    .dataframe tbody tr th:only-of-type {\n",
       "        vertical-align: middle;\n",
       "    }\n",
       "\n",
       "    .dataframe tbody tr th {\n",
       "        vertical-align: top;\n",
       "    }\n",
       "\n",
       "    .dataframe thead th {\n",
       "        text-align: right;\n",
       "    }\n",
       "</style>\n",
       "<table border=\"1\" class=\"dataframe\">\n",
       "  <thead>\n",
       "    <tr style=\"text-align: right;\">\n",
       "      <th></th>\n",
       "      <th>Uso económico</th>\n",
       "      <th>NCM</th>\n",
       "      <th>Productos principales</th>\n",
       "      <th>Millones de dólares</th>\n",
       "      <th>Variación porcentual 2022*/2021*</th>\n",
       "      <th>Participación porcentual</th>\n",
       "      <th>Principales países de origen</th>\n",
       "    </tr>\n",
       "  </thead>\n",
       "  <tbody>\n",
       "    <tr>\n",
       "      <th>1</th>\n",
       "      <td>Total de importaciones</td>\n",
       "      <td>-</td>\n",
       "      <td>-</td>\n",
       "      <td>6074.0</td>\n",
       "      <td>15.8</td>\n",
       "      <td>100.0</td>\n",
       "      <td>-</td>\n",
       "    </tr>\n",
       "    <tr>\n",
       "      <th>2</th>\n",
       "      <td>Total de productos seleccionados</td>\n",
       "      <td>-</td>\n",
       "      <td>-</td>\n",
       "      <td>1833.0</td>\n",
       "      <td>36.1</td>\n",
       "      <td>30.2</td>\n",
       "      <td>-</td>\n",
       "    </tr>\n",
       "    <tr>\n",
       "      <th>3</th>\n",
       "      <td>CyL</td>\n",
       "      <td>27101921.0</td>\n",
       "      <td>Gasóleo (gasoil)</td>\n",
       "      <td>225.0</td>\n",
       "      <td>55.3</td>\n",
       "      <td>3.7</td>\n",
       "      <td>India, Estados Unidos, Países Bajos, Bélgica</td>\n",
       "    </tr>\n",
       "    <tr>\n",
       "      <th>4</th>\n",
       "      <td>BI</td>\n",
       "      <td>31054000.0</td>\n",
       "      <td>Fosfato monoamónico, incluso mezclado con fosf...</td>\n",
       "      <td>129.0</td>\n",
       "      <td>10.4</td>\n",
       "      <td>2.1</td>\n",
       "      <td>Marruecos, China, Estados Unidos, Alemania</td>\n",
       "    </tr>\n",
       "    <tr>\n",
       "      <th>5</th>\n",
       "      <td>VA</td>\n",
       "      <td>87032310.0</td>\n",
       "      <td>Vehículos automóviles principalmente para el t...</td>\n",
       "      <td>85.0</td>\n",
       "      <td>45.5</td>\n",
       "      <td>1.4</td>\n",
       "      <td>Brasil, México, Alemania, Francia, Japón</td>\n",
       "    </tr>\n",
       "  </tbody>\n",
       "</table>\n",
       "</div>"
      ],
      "text/plain": [
       "                      Uso económico         NCM  \\\n",
       "1            Total de importaciones           -   \n",
       "2  Total de productos seleccionados           -   \n",
       "3                               CyL  27101921.0   \n",
       "4                                BI  31054000.0   \n",
       "5                                VA  87032310.0   \n",
       "\n",
       "                               Productos principales  Millones de dólares  \\\n",
       "1                                                  -               6074.0   \n",
       "2                                                  -               1833.0   \n",
       "3                                   Gasóleo (gasoil)                225.0   \n",
       "4  Fosfato monoamónico, incluso mezclado con fosf...                129.0   \n",
       "5  Vehículos automóviles principalmente para el t...                 85.0   \n",
       "\n",
       "   Variación porcentual 2022*/2021*  Participación porcentual  \\\n",
       "1                              15.8                     100.0   \n",
       "2                              36.1                      30.2   \n",
       "3                              55.3                       3.7   \n",
       "4                              10.4                       2.1   \n",
       "5                              45.5                       1.4   \n",
       "\n",
       "                   Principales países de origen  \n",
       "1                                             -  \n",
       "2                                             -  \n",
       "3  India, Estados Unidos, Países Bajos, Bélgica  \n",
       "4    Marruecos, China, Estados Unidos, Alemania  \n",
       "5      Brasil, México, Alemania, Francia, Japón  "
      ]
     },
     "execution_count": 5,
     "metadata": {},
     "output_type": "execute_result"
    }
   ],
   "source": [
    "cuadro8 = pd.read_excel(\"./data/ICA_esqueleto.xlsx\",sheet_name=\"c8\",skiprows=3)[1:]\n",
    "cuadro8 = cuadro8.fillna(\"-\")\n",
    "cuadro8.head()"
   ]
  }
 ],
 "metadata": {
  "kernelspec": {
   "display_name": "Python 3.10.4 ('indec')",
   "language": "python",
   "name": "python3"
  },
  "language_info": {
   "codemirror_mode": {
    "name": "ipython",
    "version": 3
   },
   "file_extension": ".py",
   "mimetype": "text/x-python",
   "name": "python",
   "nbconvert_exporter": "python",
   "pygments_lexer": "ipython3",
   "version": "3.10.4"
  },
  "orig_nbformat": 4,
  "vscode": {
   "interpreter": {
    "hash": "8e76e384a9df139c1746ba138f5ce3f6d0babc035eebae6bb58adb8dce6b6867"
   }
  }
 },
 "nbformat": 4,
 "nbformat_minor": 2
}
