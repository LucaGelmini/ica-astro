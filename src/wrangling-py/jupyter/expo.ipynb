{
 "cells": [
  {
   "cell_type": "code",
   "execution_count": 1,
   "metadata": {},
   "outputs": [],
   "source": [
    "import pandas as pd\n",
    "import plotly.express as px\n",
    "import plotly.io as io"
   ]
  },
  {
   "cell_type": "code",
   "execution_count": 2,
   "metadata": {},
   "outputs": [
    {
     "data": {
      "text/html": [
       "<div>\n",
       "<style scoped>\n",
       "    .dataframe tbody tr th:only-of-type {\n",
       "        vertical-align: middle;\n",
       "    }\n",
       "\n",
       "    .dataframe tbody tr th {\n",
       "        vertical-align: top;\n",
       "    }\n",
       "\n",
       "    .dataframe thead th {\n",
       "        text-align: right;\n",
       "    }\n",
       "</style>\n",
       "<table border=\"1\" class=\"dataframe\">\n",
       "  <thead>\n",
       "    <tr style=\"text-align: right;\">\n",
       "      <th></th>\n",
       "      <th>Rubros</th>\n",
       "      <th>Octubre 2022e</th>\n",
       "      <th>Octubre 2021*</th>\n",
       "    </tr>\n",
       "  </thead>\n",
       "  <tbody>\n",
       "    <tr>\n",
       "      <th>0</th>\n",
       "      <td>Total</td>\n",
       "      <td>7901</td>\n",
       "      <td>6863</td>\n",
       "    </tr>\n",
       "    <tr>\n",
       "      <th>1</th>\n",
       "      <td>PP</td>\n",
       "      <td>2382</td>\n",
       "      <td>1826</td>\n",
       "    </tr>\n",
       "    <tr>\n",
       "      <th>2</th>\n",
       "      <td>MOA</td>\n",
       "      <td>2545</td>\n",
       "      <td>2514</td>\n",
       "    </tr>\n",
       "    <tr>\n",
       "      <th>3</th>\n",
       "      <td>MOI</td>\n",
       "      <td>2255</td>\n",
       "      <td>1932</td>\n",
       "    </tr>\n",
       "    <tr>\n",
       "      <th>4</th>\n",
       "      <td>CyE</td>\n",
       "      <td>719</td>\n",
       "      <td>590</td>\n",
       "    </tr>\n",
       "  </tbody>\n",
       "</table>\n",
       "</div>"
      ],
      "text/plain": [
       "  Rubros  Octubre 2022e  Octubre 2021*\n",
       "0  Total           7901           6863\n",
       "1     PP           2382           1826\n",
       "2    MOA           2545           2514\n",
       "3    MOI           2255           1932\n",
       "4    CyE            719            590"
      ]
     },
     "execution_count": 2,
     "metadata": {},
     "output_type": "execute_result"
    }
   ],
   "source": [
    "df_grafico1_tabla = pd.read_excel(\"../data/ICA_esqueleto.xlsx\", sheet_name=\"graf1 expo.rubros.\",skipfooter=1,skiprows=1)\n",
    "df_grafico1_tabla"
   ]
  },
  {
   "cell_type": "code",
   "execution_count": 3,
   "metadata": {},
   "outputs": [
    {
     "data": {
      "application/vnd.plotly.v1+json": {
       "config": {
        "plotlyServerURL": "https://plot.ly"
       },
       "data": [
        {
         "alignmentgroup": "True",
         "bingroup": "x",
         "histfunc": "sum",
         "hovertemplate": "Periodo: Octubre 2021*<br>Rubro: %{x}<br>Dolares: $%{y}<extra></extra>",
         "legendgroup": "Octubre 2021*",
         "marker": {
          "color": "#1F77B4",
          "pattern": {
           "shape": ""
          }
         },
         "name": "Octubre 2021*",
         "offsetgroup": "Octubre 2021*",
         "orientation": "v",
         "showlegend": true,
         "type": "histogram",
         "x": [
          "PP",
          "MOA",
          "MOI",
          "CyE"
         ],
         "xaxis": "x",
         "y": [
          1826,
          2514,
          1932,
          590
         ],
         "yaxis": "y"
        },
        {
         "alignmentgroup": "True",
         "bingroup": "x",
         "histfunc": "sum",
         "hovertemplate": "Periodo: Octubre 2022e<br>Rubro: %{x}<br>Dolares: $%{y}<extra></extra>",
         "legendgroup": "Octubre 2022e",
         "marker": {
          "color": "#FF7F0E",
          "pattern": {
           "shape": ""
          }
         },
         "name": "Octubre 2022e",
         "offsetgroup": "Octubre 2022e",
         "orientation": "v",
         "showlegend": true,
         "type": "histogram",
         "x": [
          "PP",
          "MOA",
          "MOI",
          "CyE"
         ],
         "xaxis": "x",
         "y": [
          2382,
          2545,
          2255,
          719
         ],
         "yaxis": "y"
        }
       ],
       "layout": {
        "barmode": "group",
        "font": {
         "family": "verdana"
        },
        "legend": {
         "orientation": "h",
         "title": {
          "text": "Período"
         },
         "tracegroupgap": 0,
         "x": 0.3,
         "xanchor": "left",
         "y": 1.07,
         "yanchor": "top"
        },
        "margin": {
         "t": 60
        },
        "separators": ",.",
        "template": {
         "data": {
          "scatter": [
           {
            "type": "scatter"
           }
          ]
         }
        },
        "title": {
         "text": "Exportación por rubros económicos. Octubre de 2022 y octubre de 2021"
        },
        "xaxis": {
         "anchor": "y",
         "domain": [
          0,
          1
         ],
         "title": {
          "text": "Rubros"
         }
        },
        "yaxis": {
         "anchor": "x",
         "domain": [
          0,
          1
         ],
         "tickformat": ",",
         "title": {
          "text": "En millones de USD"
         }
        }
       }
      }
     },
     "metadata": {},
     "output_type": "display_data"
    }
   ],
   "source": [
    "df_grafico1 = df_grafico1_tabla[[\"Rubros\",\"Octubre 2021*\",\"Octubre 2022e\"]].melt(id_vars=\"Rubros\",value_name=\"Dólares\", var_name= \"Período\")\n",
    "plot_expo_rubros = px.histogram(df_grafico1[df_grafico1.Rubros != \"Total\"], x = \"Rubros\", y = \"Dólares\",color=\"Período\", barmode=\"group\", template=\"none\")\n",
    "plot_expo_rubros.update_yaxes(tickformat = \",\",title_text='En millones de USD')\n",
    "plot_expo_rubros.update_layout(separators=\",.\",font_family='verdana', title_text = \"Exportación por rubros económicos. Octubre de 2022 y octubre de 2021\",\n",
    "                  legend=dict(\n",
    "       yanchor=\"top\", orientation = \"h\",\n",
    "       y=1.07,\n",
    "       xanchor=\"left\", \n",
    "       x=0.3))\n",
    "plot_expo_rubros.data[0].hovertemplate = 'Periodo: Octubre 2021*<br>Rubro: %{x}<br>Dolares: $%{y}<extra></extra>'\n",
    "plot_expo_rubros.data[1].hovertemplate = 'Periodo: Octubre 2022e<br>Rubro: %{x}<br>Dolares: $%{y}<extra></extra>'\n",
    "plot_expo_rubros"
   ]
  },
  {
   "cell_type": "code",
   "execution_count": 5,
   "metadata": {},
   "outputs": [
    {
     "data": {
      "text/html": [
       "<div>\n",
       "<style scoped>\n",
       "    .dataframe tbody tr th:only-of-type {\n",
       "        vertical-align: middle;\n",
       "    }\n",
       "\n",
       "    .dataframe tbody tr th {\n",
       "        vertical-align: top;\n",
       "    }\n",
       "\n",
       "    .dataframe thead th {\n",
       "        text-align: right;\n",
       "    }\n",
       "</style>\n",
       "<table border=\"1\" class=\"dataframe\">\n",
       "  <thead>\n",
       "    <tr style=\"text-align: right;\">\n",
       "      <th></th>\n",
       "      <th>Rubros</th>\n",
       "      <th>Octubre 2022e</th>\n",
       "      <th>Octubre 2021*</th>\n",
       "      <th>Octubre Variación porcentual</th>\n",
       "      <th>Diez meses 2022e</th>\n",
       "      <th>Diez meses 2021*</th>\n",
       "      <th>Diez meses Variación porcentual</th>\n",
       "    </tr>\n",
       "  </thead>\n",
       "  <tbody>\n",
       "    <tr>\n",
       "      <th>0</th>\n",
       "      <td>Total</td>\n",
       "      <td>7901</td>\n",
       "      <td>6863</td>\n",
       "      <td>15.1</td>\n",
       "      <td>75144</td>\n",
       "      <td>65156</td>\n",
       "      <td>15.3</td>\n",
       "    </tr>\n",
       "    <tr>\n",
       "      <th>1</th>\n",
       "      <td>Productos primarios (PP)</td>\n",
       "      <td>2382</td>\n",
       "      <td>1826</td>\n",
       "      <td>30.4</td>\n",
       "      <td>21116</td>\n",
       "      <td>18738</td>\n",
       "      <td>12.7</td>\n",
       "    </tr>\n",
       "    <tr>\n",
       "      <th>2</th>\n",
       "      <td>Animales vivos</td>\n",
       "      <td>1</td>\n",
       "      <td>1</td>\n",
       "      <td>-</td>\n",
       "      <td>23</td>\n",
       "      <td>20</td>\n",
       "      <td>15</td>\n",
       "    </tr>\n",
       "    <tr>\n",
       "      <th>3</th>\n",
       "      <td>Pescados y mariscos sin elaborar</td>\n",
       "      <td>115</td>\n",
       "      <td>182</td>\n",
       "      <td>-36.8</td>\n",
       "      <td>1357</td>\n",
       "      <td>1539</td>\n",
       "      <td>-11.8</td>\n",
       "    </tr>\n",
       "    <tr>\n",
       "      <th>4</th>\n",
       "      <td>Miel</td>\n",
       "      <td>19</td>\n",
       "      <td>11</td>\n",
       "      <td>72.7</td>\n",
       "      <td>225</td>\n",
       "      <td>199</td>\n",
       "      <td>13.1</td>\n",
       "    </tr>\n",
       "  </tbody>\n",
       "</table>\n",
       "</div>"
      ],
      "text/plain": [
       "                             Rubros  Octubre 2022e  Octubre 2021*  \\\n",
       "0                             Total           7901           6863   \n",
       "1          Productos primarios (PP)           2382           1826   \n",
       "2                    Animales vivos              1              1   \n",
       "3  Pescados y mariscos sin elaborar            115            182   \n",
       "4                              Miel             19             11   \n",
       "\n",
       "  Octubre Variación porcentual  Diez meses 2022e  Diez meses 2021*  \\\n",
       "0                         15.1             75144             65156   \n",
       "1                         30.4             21116             18738   \n",
       "2                            -                23                20   \n",
       "3                        -36.8              1357              1539   \n",
       "4                         72.7               225               199   \n",
       "\n",
       "  Diez meses Variación porcentual  \n",
       "0                            15.3  \n",
       "1                            12.7  \n",
       "2                              15  \n",
       "3                           -11.8  \n",
       "4                            13.1  "
      ]
     },
     "execution_count": 5,
     "metadata": {},
     "output_type": "execute_result"
    }
   ],
   "source": [
    "columnas = [\"Rubros\",\"Octubre 2022e\", \"Octubre 2021*\", \"Octubre Variación porcentual\", \"Diez meses 2022e\", \"Diez meses 2021*\", \"Diez meses Variación porcentual\"]\n",
    "cuadro5 = pd.read_excel(\"../data/ICA_esqueleto.xlsx\", sheet_name=\"c5\",skipfooter=0,skiprows=4,names=columnas)\n",
    "cuadro5.head()"
   ]
  },
  {
   "cell_type": "code",
   "execution_count": null,
   "metadata": {},
   "outputs": [
    {
     "data": {
      "text/html": [
       "<div>\n",
       "<style scoped>\n",
       "    .dataframe tbody tr th:only-of-type {\n",
       "        vertical-align: middle;\n",
       "    }\n",
       "\n",
       "    .dataframe tbody tr th {\n",
       "        vertical-align: top;\n",
       "    }\n",
       "\n",
       "    .dataframe thead th {\n",
       "        text-align: right;\n",
       "    }\n",
       "</style>\n",
       "<table border=\"1\" class=\"dataframe\">\n",
       "  <thead>\n",
       "    <tr style=\"text-align: right;\">\n",
       "      <th></th>\n",
       "      <th>Rubro</th>\n",
       "      <th>NCM</th>\n",
       "      <th>Productos principales</th>\n",
       "      <th>Millones de dólares</th>\n",
       "      <th>Variación porcentual 2022*/2021*</th>\n",
       "      <th>Participación porcentual</th>\n",
       "      <th>Principales países de destino</th>\n",
       "    </tr>\n",
       "  </thead>\n",
       "  <tbody>\n",
       "    <tr>\n",
       "      <th>1</th>\n",
       "      <td>Total de exportaciones</td>\n",
       "      <td>-</td>\n",
       "      <td>-</td>\n",
       "      <td>7901</td>\n",
       "      <td>15.1</td>\n",
       "      <td>100</td>\n",
       "      <td>-</td>\n",
       "    </tr>\n",
       "    <tr>\n",
       "      <th>2</th>\n",
       "      <td>Total de productos seleccionados</td>\n",
       "      <td>-</td>\n",
       "      <td>-</td>\n",
       "      <td>6019</td>\n",
       "      <td>25.4</td>\n",
       "      <td>76.2</td>\n",
       "      <td>-</td>\n",
       "    </tr>\n",
       "    <tr>\n",
       "      <th>3</th>\n",
       "      <td>PP</td>\n",
       "      <td>12019000.0</td>\n",
       "      <td>Porotos de soja, incluso quebrantados, excluid...</td>\n",
       "      <td>1255</td>\n",
       "      <td>563.5</td>\n",
       "      <td>15.9</td>\n",
       "      <td>China, Estados Unidos, Rusia, Perú, Chile</td>\n",
       "    </tr>\n",
       "    <tr>\n",
       "      <th>4</th>\n",
       "      <td>MOA</td>\n",
       "      <td>23040010.0</td>\n",
       "      <td>Harina y pellets de de la extracción del aceit...</td>\n",
       "      <td>1063</td>\n",
       "      <td>21.2</td>\n",
       "      <td>13.5</td>\n",
       "      <td>Viet Nam, Indonesia, Polonia, Italia, Australia</td>\n",
       "    </tr>\n",
       "    <tr>\n",
       "      <th>5</th>\n",
       "      <td>PP</td>\n",
       "      <td>10059010.0</td>\n",
       "      <td>Maíz en grano, excluido para siembra</td>\n",
       "      <td>594</td>\n",
       "      <td>-35</td>\n",
       "      <td>7.5</td>\n",
       "      <td>República de Corea, Viet Nam, Perú, Argelia, C...</td>\n",
       "    </tr>\n",
       "  </tbody>\n",
       "</table>\n",
       "</div>"
      ],
      "text/plain": [
       "                              Rubro         NCM  \\\n",
       "1            Total de exportaciones           -   \n",
       "2  Total de productos seleccionados           -   \n",
       "3                                PP  12019000.0   \n",
       "4                               MOA  23040010.0   \n",
       "5                                PP  10059010.0   \n",
       "\n",
       "                               Productos principales Millones de dólares  \\\n",
       "1                                                  -                7901   \n",
       "2                                                  -                6019   \n",
       "3  Porotos de soja, incluso quebrantados, excluid...                1255   \n",
       "4  Harina y pellets de de la extracción del aceit...                1063   \n",
       "5               Maíz en grano, excluido para siembra                 594   \n",
       "\n",
       "  Variación porcentual 2022*/2021* Participación porcentual  \\\n",
       "1                             15.1                      100   \n",
       "2                             25.4                     76.2   \n",
       "3                            563.5                     15.9   \n",
       "4                             21.2                     13.5   \n",
       "5                              -35                      7.5   \n",
       "\n",
       "                       Principales países de destino  \n",
       "1                                                  -  \n",
       "2                                                  -  \n",
       "3          China, Estados Unidos, Rusia, Perú, Chile  \n",
       "4    Viet Nam, Indonesia, Polonia, Italia, Australia  \n",
       "5  República de Corea, Viet Nam, Perú, Argelia, C...  "
      ]
     },
     "execution_count": 5,
     "metadata": {},
     "output_type": "execute_result"
    }
   ],
   "source": [
    "cuadro6 = pd.read_excel(\"./data/ICA_esqueleto.xlsx\", sheet_name=\"c6\",skipfooter=0,skiprows=3)[1:]\n",
    "cuadro6 = cuadro6.fillna(\"-\")\n",
    "cuadro6.head()"
   ]
  }
 ],
 "metadata": {
  "kernelspec": {
   "display_name": "Python 3.10.4 ('indec')",
   "language": "python",
   "name": "python3"
  },
  "language_info": {
   "codemirror_mode": {
    "name": "ipython",
    "version": 3
   },
   "file_extension": ".py",
   "mimetype": "text/x-python",
   "name": "python",
   "nbconvert_exporter": "python",
   "pygments_lexer": "ipython3",
   "version": "3.10.4 | packaged by conda-forge | (main, Mar 30 2022, 08:38:02) [MSC v.1916 64 bit (AMD64)]"
  },
  "orig_nbformat": 4,
  "vscode": {
   "interpreter": {
    "hash": "8e76e384a9df139c1746ba138f5ce3f6d0babc035eebae6bb58adb8dce6b6867"
   }
  }
 },
 "nbformat": 4,
 "nbformat_minor": 2
}
