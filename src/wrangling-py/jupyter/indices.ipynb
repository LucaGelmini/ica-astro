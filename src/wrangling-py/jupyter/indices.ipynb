{
 "cells": [
  {
   "cell_type": "code",
   "execution_count": 2,
   "metadata": {},
   "outputs": [
    {
     "data": {
      "text/plain": [
       "'es_ES'"
      ]
     },
     "execution_count": 2,
     "metadata": {},
     "output_type": "execute_result"
    }
   ],
   "source": [
    "import pandas as pd\n",
    "from plotly.subplots import make_subplots\n",
    "import plotly.graph_objects as go\n",
    "import locale\n",
    "locale.setlocale(locale.LC_ALL, 'es_ES')"
   ]
  },
  {
   "cell_type": "code",
   "execution_count": 3,
   "metadata": {},
   "outputs": [
    {
     "data": {
      "text/html": [
       "<div>\n",
       "<style scoped>\n",
       "    .dataframe tbody tr th:only-of-type {\n",
       "        vertical-align: middle;\n",
       "    }\n",
       "\n",
       "    .dataframe tbody tr th {\n",
       "        vertical-align: top;\n",
       "    }\n",
       "\n",
       "    .dataframe thead th {\n",
       "        text-align: right;\n",
       "    }\n",
       "</style>\n",
       "<table border=\"1\" class=\"dataframe\">\n",
       "  <thead>\n",
       "    <tr style=\"text-align: right;\">\n",
       "      <th></th>\n",
       "      <th>&lt;-Rubros&gt;</th>\n",
       "      <th>&lt;Variación interanual - Precio&gt;</th>\n",
       "      <th>&lt;Variación interanual - Cantidad&gt;</th>\n",
       "      <th>&lt;Variación interanual - Valor&gt;</th>\n",
       "      <th>&lt;Variación acumulada - Precio&gt;</th>\n",
       "      <th>&lt;Variación acumulada - Cantidad&gt;</th>\n",
       "      <th>&lt;Variación acumulada - Valor&gt;</th>\n",
       "    </tr>\n",
       "  </thead>\n",
       "  <tbody>\n",
       "    <tr>\n",
       "      <th>0</th>\n",
       "      <td>Total</td>\n",
       "      <td>14.5</td>\n",
       "      <td>10.5</td>\n",
       "      <td>3.459051</td>\n",
       "      <td>15.3</td>\n",
       "      <td>17.0</td>\n",
       "      <td>-1.4</td>\n",
       "    </tr>\n",
       "    <tr>\n",
       "      <th>1</th>\n",
       "      <td>Productos primarios (PP)</td>\n",
       "      <td>14.8</td>\n",
       "      <td>6.6</td>\n",
       "      <td>7.860119</td>\n",
       "      <td>12.6</td>\n",
       "      <td>13.1</td>\n",
       "      <td>-0.4</td>\n",
       "    </tr>\n",
       "    <tr>\n",
       "      <th>2</th>\n",
       "      <td>Manufacturas de origen agropecuario (MOA)</td>\n",
       "      <td>18.9</td>\n",
       "      <td>9.9</td>\n",
       "      <td>8.133378</td>\n",
       "      <td>7.5</td>\n",
       "      <td>18.0</td>\n",
       "      <td>-8.8</td>\n",
       "    </tr>\n",
       "    <tr>\n",
       "      <th>3</th>\n",
       "      <td>Manufacturas de origen industrial (MOI)</td>\n",
       "      <td>11.8</td>\n",
       "      <td>15.1</td>\n",
       "      <td>-2.783890</td>\n",
       "      <td>18.7</td>\n",
       "      <td>13.3</td>\n",
       "      <td>4.7</td>\n",
       "    </tr>\n",
       "    <tr>\n",
       "      <th>4</th>\n",
       "      <td>Combustibles y energía (CyE)</td>\n",
       "      <td>3.9</td>\n",
       "      <td>4.4</td>\n",
       "      <td>-0.114279</td>\n",
       "      <td>62.1</td>\n",
       "      <td>47.7</td>\n",
       "      <td>9.8</td>\n",
       "    </tr>\n",
       "  </tbody>\n",
       "</table>\n",
       "</div>"
      ],
      "text/plain": [
       "                                   <-Rubros>  <Variación interanual - Precio>  \\\n",
       "0                                      Total                             14.5   \n",
       "1                   Productos primarios (PP)                             14.8   \n",
       "2  Manufacturas de origen agropecuario (MOA)                             18.9   \n",
       "3    Manufacturas de origen industrial (MOI)                             11.8   \n",
       "4               Combustibles y energía (CyE)                              3.9   \n",
       "\n",
       "   <Variación interanual - Cantidad>  <Variación interanual - Valor>  \\\n",
       "0                               10.5                        3.459051   \n",
       "1                                6.6                        7.860119   \n",
       "2                                9.9                        8.133378   \n",
       "3                               15.1                       -2.783890   \n",
       "4                                4.4                       -0.114279   \n",
       "\n",
       "   <Variación acumulada - Precio>  <Variación acumulada - Cantidad>  \\\n",
       "0                            15.3                              17.0   \n",
       "1                            12.6                              13.1   \n",
       "2                             7.5                              18.0   \n",
       "3                            18.7                              13.3   \n",
       "4                            62.1                              47.7   \n",
       "\n",
       "   <Variación acumulada - Valor>  \n",
       "0                           -1.4  \n",
       "1                           -0.4  \n",
       "2                           -8.8  \n",
       "3                            4.7  \n",
       "4                            9.8  "
      ]
     },
     "execution_count": 3,
     "metadata": {},
     "output_type": "execute_result"
    }
   ],
   "source": [
    "df_indices_usos = pd.read_excel(\"../data/indices.xlsx\",sheet_name = \"usos_var\")\n",
    "df_indices_rubros = pd.read_excel(\"../data/indices.xlsx\",sheet_name = \"rubros_var\")\n",
    "df_indices_rubros"
   ]
  },
  {
   "cell_type": "code",
   "execution_count": 4,
   "metadata": {},
   "outputs": [
    {
     "data": {
      "text/html": [
       "<div>\n",
       "<style scoped>\n",
       "    .dataframe tbody tr th:only-of-type {\n",
       "        vertical-align: middle;\n",
       "    }\n",
       "\n",
       "    .dataframe tbody tr th {\n",
       "        vertical-align: top;\n",
       "    }\n",
       "\n",
       "    .dataframe thead th {\n",
       "        text-align: right;\n",
       "    }\n",
       "</style>\n",
       "<table border=\"1\" class=\"dataframe\">\n",
       "  <thead>\n",
       "    <tr style=\"text-align: right;\">\n",
       "      <th></th>\n",
       "      <th>Año</th>\n",
       "      <th>Mes</th>\n",
       "      <th>xp</th>\n",
       "      <th>xq</th>\n",
       "      <th>mp</th>\n",
       "      <th>mq</th>\n",
       "    </tr>\n",
       "  </thead>\n",
       "  <tbody>\n",
       "    <tr>\n",
       "      <th>2021-01-01</th>\n",
       "      <td>2021</td>\n",
       "      <td>Enero</td>\n",
       "      <td>0.109380</td>\n",
       "      <td>-0.030850</td>\n",
       "      <td>0.018671</td>\n",
       "      <td>0.074492</td>\n",
       "    </tr>\n",
       "    <tr>\n",
       "      <th>2021-02-01</th>\n",
       "      <td>2021</td>\n",
       "      <td>Febrero</td>\n",
       "      <td>0.139975</td>\n",
       "      <td>-0.042622</td>\n",
       "      <td>-0.013944</td>\n",
       "      <td>0.189239</td>\n",
       "    </tr>\n",
       "    <tr>\n",
       "      <th>2021-03-01</th>\n",
       "      <td>2021</td>\n",
       "      <td>Marzo</td>\n",
       "      <td>0.137026</td>\n",
       "      <td>0.147681</td>\n",
       "      <td>0.024913</td>\n",
       "      <td>0.656093</td>\n",
       "    </tr>\n",
       "    <tr>\n",
       "      <th>2021-04-01</th>\n",
       "      <td>2021</td>\n",
       "      <td>Abril</td>\n",
       "      <td>0.252527</td>\n",
       "      <td>0.128193</td>\n",
       "      <td>0.072043</td>\n",
       "      <td>0.515522</td>\n",
       "    </tr>\n",
       "    <tr>\n",
       "      <th>2021-05-01</th>\n",
       "      <td>2021</td>\n",
       "      <td>Mayo</td>\n",
       "      <td>0.358726</td>\n",
       "      <td>-0.010804</td>\n",
       "      <td>0.151802</td>\n",
       "      <td>0.415972</td>\n",
       "    </tr>\n",
       "  </tbody>\n",
       "</table>\n",
       "</div>"
      ],
      "text/plain": [
       "             Año      Mes        xp        xq        mp        mq\n",
       "2021-01-01  2021    Enero  0.109380 -0.030850  0.018671  0.074492\n",
       "2021-02-01  2021  Febrero  0.139975 -0.042622 -0.013944  0.189239\n",
       "2021-03-01  2021    Marzo  0.137026  0.147681  0.024913  0.656093\n",
       "2021-04-01  2021    Abril  0.252527  0.128193  0.072043  0.515522\n",
       "2021-05-01  2021     Mayo  0.358726 -0.010804  0.151802  0.415972"
      ]
     },
     "execution_count": 4,
     "metadata": {},
     "output_type": "execute_result"
    }
   ],
   "source": [
    "df_indices_serie= pd.read_excel(\"../data/indices.xlsx\",sheet_name = \"serie\")\n",
    "df_indices_serie_variaciones = df_indices_serie[df_indices_serie.columns[2:]].pct_change(12,fill_method=None)\n",
    "df_indices_serie_variaciones.insert(0,\"Año\",df_indices_serie.Año)\n",
    "df_indices_serie_variaciones.insert(1,\"Mes\",df_indices_serie.Mes)\n",
    "df_indices_serie_variaciones = df_indices_serie_variaciones.iloc[12:].reset_index(drop = True)\n",
    "df_indices_serie = df_indices_serie.iloc[12:].reset_index(drop = True)\n",
    "primer_anio = df_indices_serie.Año.iloc[0]\n",
    "df_indices_serie.index = pd.date_range(start =str(primer_anio)+\"-01\", periods=len(df_indices_serie.index),  freq = \"MS\") \n",
    "df_indices_serie_variaciones.index = pd.date_range(start =str(primer_anio)+\"-01\", periods=len(df_indices_serie_variaciones.index),  freq = \"MS\") \n",
    "df_indices_serie_variaciones.head()"
   ]
  },
  {
   "cell_type": "code",
   "execution_count": 10,
   "metadata": {},
   "outputs": [
    {
     "data": {
      "application/vnd.plotly.v1+json": {
       "config": {
        "plotlyServerURL": "https://plot.ly"
       },
       "data": [
        {
         "hovertemplate": "<b>%{x}</b><br><extra></extra>índice %{y:,.2f}",
         "type": "scatter",
         "x": [
          "Ene 2021",
          "Feb 2021",
          "Mar 2021",
          "Abr 2021",
          "May 2021",
          "Jun 2021",
          "Jul 2021",
          "Ago 2021",
          "Sep 2021",
          "Oct 2021",
          "Nov 2021",
          "Dic 2021",
          "Ene 2022",
          "Feb 2022",
          "Mar 2022",
          "Abr 2022",
          "May 2022",
          "Jun 2022",
          "Jul 2022",
          "Ago 2022",
          "Sep 2022",
          "Oct 2022",
          "Nov 2022"
         ],
         "xaxis": "x",
         "y": [
          184.634887502522,
          174.217383896988,
          235.44772860049,
          202.61519150496,
          214.537042139062,
          239.547766355978,
          230.081758182127,
          225.718554833953,
          238.399686983921,
          212.122007915362,
          229.460207520326,
          252.917784564312,
          216.401269232038,
          218.158340737518,
          272.840390030444,
          248.605130659383,
          262.045559880021,
          277.449309460597,
          260.329852865387,
          265.331188334654,
          256.438958799959,
          229.64269930300003,
          231.3789922187
         ],
         "yaxis": "y"
        },
        {
         "hovertemplate": "<b>%{x}</b><br><extra></extra>Variación interanual %{y:,.2%}",
         "type": "bar",
         "x": [
          "Ene 2021",
          "Feb 2021",
          "Mar 2021",
          "Abr 2021",
          "May 2021",
          "Jun 2021",
          "Jul 2021",
          "Ago 2021",
          "Sep 2021",
          "Oct 2021",
          "Nov 2021",
          "Dic 2021",
          "Ene 2022",
          "Feb 2022",
          "Mar 2022",
          "Abr 2022",
          "May 2022",
          "Jun 2022",
          "Jul 2022",
          "Ago 2022",
          "Sep 2022",
          "Oct 2022",
          "Nov 2022"
         ],
         "xaxis": "x2",
         "y": [
          0.0744920463639922,
          0.18923909200808375,
          0.6560930982951285,
          0.5155215176607193,
          0.4159721777847827,
          0.4750983770241499,
          0.346515861302775,
          0.3277298780134541,
          0.2008565322771214,
          0.10055729557627324,
          0.15533677431128146,
          0.32451998500096235,
          0.1720497255919855,
          0.25221912909972066,
          0.15881512916780882,
          0.22698169279817892,
          0.22144668942608137,
          0.15822123362359286,
          0.13146672262177495,
          0.17549568988620146,
          0.07566818582800683,
          0.08259723524128115,
          0.008362167537061982
         ],
         "yaxis": "y2"
        }
       ],
       "layout": {
        "font": {
         "family": "verdana"
        },
        "separators": ",.",
        "showlegend": false,
        "template": {},
        "title": {
         "text": "índice de cantidades de las importaciones"
        },
        "xaxis": {
         "anchor": "y",
         "domain": [
          0,
          1
         ],
         "nticks": 10
        },
        "xaxis2": {
         "anchor": "y2",
         "domain": [
          0,
          1
         ],
         "nticks": 10
        },
        "yaxis": {
         "anchor": "x",
         "domain": [
          0.575,
          1
         ],
         "tickformat": ",",
         "title": {
          "text": "índice"
         }
        },
        "yaxis2": {
         "anchor": "x2",
         "domain": [
          0,
          0.425
         ],
         "tickformat": ",.0%",
         "title": {
          "text": "Variación interanual"
         }
        }
       }
      }
     },
     "metadata": {},
     "output_type": "display_data"
    }
   ],
   "source": [
    "\n",
    "new_date = [d.strftime('%b %Y').replace(\".\",\"\").capitalize() for d in df_indices_serie.index]\n",
    "\n",
    "dicc_indices = {\n",
    "    \"xp\": \"índice de precios de las exportaciones\",\n",
    "    \"xq\": \"índice de cantidades de las expotaciones\",\n",
    "    \"mp\": \"índice de precios de las importaciones\",\n",
    "    \"mq\": \"índice de cantidades de las importaciones\",\n",
    "}\n",
    "\n",
    "def genera_subplot_indices(indice):\n",
    "    nombre_indice = dicc_indices[indice]\n",
    "\n",
    "    fig = make_subplots(rows=2, cols=1,)\n",
    "\n",
    "    fig.add_trace(\n",
    "        go.Scatter(x=new_date, y=df_indices_serie[indice],\n",
    "                   hovertemplate = \"<b>%{x}</b><br><extra></extra>\"+\n",
    "              \"índice %{y:,.2f}\"),\n",
    "        row=1, col=1\n",
    "    )\n",
    "\n",
    "    fig.add_trace(\n",
    "        go.Bar(x=new_date, y=df_indices_serie_variaciones[indice],\n",
    "               hovertemplate = \"<b>%{x}</b><br><extra></extra>\"+\n",
    "              \"Variación interanual %{y:,.2%}\"),\n",
    "        row=2, col=1,\n",
    "        )\n",
    "\n",
    "    fig.update_layout(title_text=f\"{nombre_indice}\", template = None, showlegend = False, font_family = \"verdana\",\n",
    "                      separators=\",.\", \n",
    "                    #   paper_bgcolor='rgba(0,0,0,0)',\n",
    "                      )\n",
    "    fig.update_yaxes(title_text=\"índice\", row=1, col=1, tickformat = \",\", )\n",
    "    fig.update_yaxes(title_text=\"Variación interanual\", tickformat = ',.0%',row=2, col=1)\n",
    "    fig.update_xaxes(nticks=10)\n",
    "    return fig\n",
    "    \n",
    "genera_subplot_indices(\"mq\")"
   ]
  }
 ],
 "metadata": {
  "kernelspec": {
   "display_name": "indec",
   "language": "python",
   "name": "python3"
  },
  "language_info": {
   "codemirror_mode": {
    "name": "ipython",
    "version": 3
   },
   "file_extension": ".py",
   "mimetype": "text/x-python",
   "name": "python",
   "nbconvert_exporter": "python",
   "pygments_lexer": "ipython3",
   "version": "3.10.4"
  },
  "orig_nbformat": 4,
  "vscode": {
   "interpreter": {
    "hash": "8e76e384a9df139c1746ba138f5ce3f6d0babc035eebae6bb58adb8dce6b6867"
   }
  }
 },
 "nbformat": 4,
 "nbformat_minor": 2
}
