{
 "cells": [
  {
   "cell_type": "code",
   "execution_count": 1,
   "metadata": {},
   "outputs": [],
   "source": [
    "import pandas as pd"
   ]
  },
  {
   "cell_type": "code",
   "execution_count": 2,
   "metadata": {},
   "outputs": [],
   "source": [
    "socios_tabla = pd.read_excel(\"../data/ICA_esqueleto.xlsx\",sheet_name=\"R1.Principales países\",skiprows=0)\n",
    "socios_tabla.drop(1,inplace=True)\n",
    "header = [socios_tabla.iloc[0].values, [\"Exportación\",\"Exportación\",\"Exportación\",\"Exportación\",\n",
    "                                        \"Importación\",\"Importación\",\"Importación\",\"Importación\",\n",
    "                                        \"Saldo\",\"Saldo\"]]\n",
    "\n",
    "header = [\"<\"+sup+\" - \"+inf+\">\" for inf, sup in zip(header[0],header[1])]\n",
    "socios_tabla.columns = header"
   ]
  },
  {
   "cell_type": "code",
   "execution_count": 3,
   "metadata": {},
   "outputs": [
    {
     "data": {
      "text/html": [
       "<div>\n",
       "<style scoped>\n",
       "    .dataframe tbody tr th:only-of-type {\n",
       "        vertical-align: middle;\n",
       "    }\n",
       "\n",
       "    .dataframe tbody tr th {\n",
       "        vertical-align: top;\n",
       "    }\n",
       "\n",
       "    .dataframe thead th {\n",
       "        text-align: right;\n",
       "    }\n",
       "</style>\n",
       "<table border=\"1\" class=\"dataframe\">\n",
       "  <thead>\n",
       "    <tr style=\"text-align: right;\">\n",
       "      <th></th>\n",
       "      <th>&lt;Exportación - País&gt;</th>\n",
       "      <th>&lt;Exportación - Millones de dólares&gt;</th>\n",
       "      <th>&lt;Exportación - Variación porcentual&gt;</th>\n",
       "      <th>&lt;Exportación - Participación porcentual&gt;</th>\n",
       "      <th>&lt;Importación - País&gt;</th>\n",
       "      <th>&lt;Importación - Millones de dólares&gt;</th>\n",
       "      <th>&lt;Importación - Variación porcentual&gt;</th>\n",
       "      <th>&lt;Importación - Participación porcentual&gt;</th>\n",
       "      <th>&lt;Saldo - País&gt;</th>\n",
       "      <th>&lt;Saldo - Millones de dólares&gt;</th>\n",
       "    </tr>\n",
       "  </thead>\n",
       "  <tbody>\n",
       "    <tr>\n",
       "      <th>0</th>\n",
       "      <td>País</td>\n",
       "      <td>Millones de dólares</td>\n",
       "      <td>Variación porcentual</td>\n",
       "      <td>Participación porcentual</td>\n",
       "      <td>País</td>\n",
       "      <td>Millones de dólares</td>\n",
       "      <td>Variación porcentual</td>\n",
       "      <td>Participación porcentual</td>\n",
       "      <td>País</td>\n",
       "      <td>Millones de dólares</td>\n",
       "    </tr>\n",
       "    <tr>\n",
       "      <th>2</th>\n",
       "      <td>Octubre de 2022</td>\n",
       "      <td>NaN</td>\n",
       "      <td>NaN</td>\n",
       "      <td>NaN</td>\n",
       "      <td>NaN</td>\n",
       "      <td>NaN</td>\n",
       "      <td>NaN</td>\n",
       "      <td>NaN</td>\n",
       "      <td>NaN</td>\n",
       "      <td>NaN</td>\n",
       "    </tr>\n",
       "    <tr>\n",
       "      <th>3</th>\n",
       "      <td>Total</td>\n",
       "      <td>7901</td>\n",
       "      <td>15.1</td>\n",
       "      <td>100</td>\n",
       "      <td>Total</td>\n",
       "      <td>6074</td>\n",
       "      <td>15.8</td>\n",
       "      <td>100</td>\n",
       "      <td>Total</td>\n",
       "      <td>1827</td>\n",
       "    </tr>\n",
       "    <tr>\n",
       "      <th>4</th>\n",
       "      <td>China</td>\n",
       "      <td>1636</td>\n",
       "      <td>220.2</td>\n",
       "      <td>20.7</td>\n",
       "      <td>China</td>\n",
       "      <td>1501</td>\n",
       "      <td>13.5</td>\n",
       "      <td>24.7</td>\n",
       "      <td>Chile</td>\n",
       "      <td>294</td>\n",
       "    </tr>\n",
       "    <tr>\n",
       "      <th>5</th>\n",
       "      <td>Brasil</td>\n",
       "      <td>1123</td>\n",
       "      <td>0.8</td>\n",
       "      <td>14.2</td>\n",
       "      <td>Brasil</td>\n",
       "      <td>1247</td>\n",
       "      <td>24.5</td>\n",
       "      <td>20.5</td>\n",
       "      <td>Países Bajos</td>\n",
       "      <td>201</td>\n",
       "    </tr>\n",
       "    <tr>\n",
       "      <th>6</th>\n",
       "      <td>Estados Unidos</td>\n",
       "      <td>646</td>\n",
       "      <td>33.5</td>\n",
       "      <td>8.2</td>\n",
       "      <td>Estados Unidos</td>\n",
       "      <td>628</td>\n",
       "      <td>48.8</td>\n",
       "      <td>10.3</td>\n",
       "      <td>Perú</td>\n",
       "      <td>189</td>\n",
       "    </tr>\n",
       "    <tr>\n",
       "      <th>7</th>\n",
       "      <td>Chile</td>\n",
       "      <td>351</td>\n",
       "      <td>-16.4</td>\n",
       "      <td>4.4</td>\n",
       "      <td>Alemania</td>\n",
       "      <td>232</td>\n",
       "      <td>8.9</td>\n",
       "      <td>3.8</td>\n",
       "      <td>Viet Nam</td>\n",
       "      <td>160</td>\n",
       "    </tr>\n",
       "    <tr>\n",
       "      <th>8</th>\n",
       "      <td>Países Bajos</td>\n",
       "      <td>340</td>\n",
       "      <td>1.8</td>\n",
       "      <td>4.3</td>\n",
       "      <td>India</td>\n",
       "      <td>210</td>\n",
       "      <td>61.5</td>\n",
       "      <td>3.5</td>\n",
       "      <td>China</td>\n",
       "      <td>135</td>\n",
       "    </tr>\n",
       "    <tr>\n",
       "      <th>9</th>\n",
       "      <td>Viet Nam</td>\n",
       "      <td>241</td>\n",
       "      <td>2.6</td>\n",
       "      <td>3.1</td>\n",
       "      <td>Bolivia</td>\n",
       "      <td>150</td>\n",
       "      <td>105.5</td>\n",
       "      <td>2.5</td>\n",
       "      <td>Alemania</td>\n",
       "      <td>-132</td>\n",
       "    </tr>\n",
       "    <tr>\n",
       "      <th>10</th>\n",
       "      <td>Perú</td>\n",
       "      <td>213</td>\n",
       "      <td>3.4</td>\n",
       "      <td>2.7</td>\n",
       "      <td>Países Bajos</td>\n",
       "      <td>139</td>\n",
       "      <td>131.7</td>\n",
       "      <td>2.3</td>\n",
       "      <td>Brasil</td>\n",
       "      <td>-124</td>\n",
       "    </tr>\n",
       "    <tr>\n",
       "      <th>11</th>\n",
       "      <td>Italia</td>\n",
       "      <td>206</td>\n",
       "      <td>123.9</td>\n",
       "      <td>2.6</td>\n",
       "      <td>Tailandia</td>\n",
       "      <td>136</td>\n",
       "      <td>9.7</td>\n",
       "      <td>2.2</td>\n",
       "      <td>Uruguay</td>\n",
       "      <td>123</td>\n",
       "    </tr>\n",
       "    <tr>\n",
       "      <th>12</th>\n",
       "      <td>Uruguay</td>\n",
       "      <td>169</td>\n",
       "      <td>31</td>\n",
       "      <td>2.1</td>\n",
       "      <td>México</td>\n",
       "      <td>119</td>\n",
       "      <td>58.7</td>\n",
       "      <td>2</td>\n",
       "      <td>Tailandia</td>\n",
       "      <td>-115</td>\n",
       "    </tr>\n",
       "    <tr>\n",
       "      <th>13</th>\n",
       "      <td>India</td>\n",
       "      <td>165</td>\n",
       "      <td>-62.2</td>\n",
       "      <td>2.1</td>\n",
       "      <td>Paraguay</td>\n",
       "      <td>116</td>\n",
       "      <td>-34.8</td>\n",
       "      <td>1.9</td>\n",
       "      <td>Argelia</td>\n",
       "      <td>107</td>\n",
       "    </tr>\n",
       "    <tr>\n",
       "      <th>14</th>\n",
       "      <td>Resto</td>\n",
       "      <td>2811</td>\n",
       "      <td>-3.1</td>\n",
       "      <td>35.6</td>\n",
       "      <td>Resto</td>\n",
       "      <td>1596</td>\n",
       "      <td>-3.1</td>\n",
       "      <td>26.3</td>\n",
       "      <td>Resto</td>\n",
       "      <td>989</td>\n",
       "    </tr>\n",
       "    <tr>\n",
       "      <th>15</th>\n",
       "      <td>Diez meses de 2022</td>\n",
       "      <td>NaN</td>\n",
       "      <td>NaN</td>\n",
       "      <td>NaN</td>\n",
       "      <td>NaN</td>\n",
       "      <td>NaN</td>\n",
       "      <td>NaN</td>\n",
       "      <td>NaN</td>\n",
       "      <td>NaN</td>\n",
       "      <td>NaN</td>\n",
       "    </tr>\n",
       "    <tr>\n",
       "      <th>16</th>\n",
       "      <td>Total</td>\n",
       "      <td>75144</td>\n",
       "      <td>15.3</td>\n",
       "      <td>100</td>\n",
       "      <td>Total</td>\n",
       "      <td>70738</td>\n",
       "      <td>38.2</td>\n",
       "      <td>100</td>\n",
       "      <td>Total</td>\n",
       "      <td>4406</td>\n",
       "    </tr>\n",
       "    <tr>\n",
       "      <th>17</th>\n",
       "      <td>Brasil</td>\n",
       "      <td>10462</td>\n",
       "      <td>10.2</td>\n",
       "      <td>13.9</td>\n",
       "      <td>China</td>\n",
       "      <td>14858</td>\n",
       "      <td>37</td>\n",
       "      <td>21</td>\n",
       "      <td>China</td>\n",
       "      <td>-8020</td>\n",
       "    </tr>\n",
       "    <tr>\n",
       "      <th>18</th>\n",
       "      <td>China</td>\n",
       "      <td>6838</td>\n",
       "      <td>21.7</td>\n",
       "      <td>9.1</td>\n",
       "      <td>Brasil</td>\n",
       "      <td>13806</td>\n",
       "      <td>36.3</td>\n",
       "      <td>19.5</td>\n",
       "      <td>Chile</td>\n",
       "      <td>3490</td>\n",
       "    </tr>\n",
       "    <tr>\n",
       "      <th>19</th>\n",
       "      <td>Estados Unidos</td>\n",
       "      <td>5828</td>\n",
       "      <td>45.1</td>\n",
       "      <td>7.8</td>\n",
       "      <td>Estados Unidos</td>\n",
       "      <td>9219</td>\n",
       "      <td>91.3</td>\n",
       "      <td>13</td>\n",
       "      <td>Estados Unidos</td>\n",
       "      <td>-3391</td>\n",
       "    </tr>\n",
       "    <tr>\n",
       "      <th>20</th>\n",
       "      <td>Chile</td>\n",
       "      <td>4156</td>\n",
       "      <td>25.9</td>\n",
       "      <td>5.5</td>\n",
       "      <td>Alemania</td>\n",
       "      <td>2345</td>\n",
       "      <td>11</td>\n",
       "      <td>3.3</td>\n",
       "      <td>Brasil</td>\n",
       "      <td>-3344</td>\n",
       "    </tr>\n",
       "    <tr>\n",
       "      <th>21</th>\n",
       "      <td>India</td>\n",
       "      <td>3800</td>\n",
       "      <td>13.5</td>\n",
       "      <td>5.1</td>\n",
       "      <td>Bolivia</td>\n",
       "      <td>2014</td>\n",
       "      <td>128.9</td>\n",
       "      <td>2.8</td>\n",
       "      <td>India</td>\n",
       "      <td>2145</td>\n",
       "    </tr>\n",
       "    <tr>\n",
       "      <th>22</th>\n",
       "      <td>Países Bajos</td>\n",
       "      <td>2921</td>\n",
       "      <td>9.4</td>\n",
       "      <td>3.9</td>\n",
       "      <td>Paraguay</td>\n",
       "      <td>1775</td>\n",
       "      <td>-31.2</td>\n",
       "      <td>2.5</td>\n",
       "      <td>Países Bajos</td>\n",
       "      <td>2142</td>\n",
       "    </tr>\n",
       "    <tr>\n",
       "      <th>23</th>\n",
       "      <td>Viet Nam</td>\n",
       "      <td>2751</td>\n",
       "      <td>0</td>\n",
       "      <td>3.7</td>\n",
       "      <td>India</td>\n",
       "      <td>1655</td>\n",
       "      <td>42.1</td>\n",
       "      <td>2.3</td>\n",
       "      <td>Perú</td>\n",
       "      <td>1747</td>\n",
       "    </tr>\n",
       "    <tr>\n",
       "      <th>24</th>\n",
       "      <td>Perú</td>\n",
       "      <td>2013</td>\n",
       "      <td>23.5</td>\n",
       "      <td>2.7</td>\n",
       "      <td>Tailandia</td>\n",
       "      <td>1534</td>\n",
       "      <td>21.5</td>\n",
       "      <td>2.2</td>\n",
       "      <td>Viet Nam</td>\n",
       "      <td>1670</td>\n",
       "    </tr>\n",
       "    <tr>\n",
       "      <th>25</th>\n",
       "      <td>República de Corea</td>\n",
       "      <td>1730</td>\n",
       "      <td>17.3</td>\n",
       "      <td>2.3</td>\n",
       "      <td>México</td>\n",
       "      <td>1424</td>\n",
       "      <td>29.1</td>\n",
       "      <td>2</td>\n",
       "      <td>Alemania</td>\n",
       "      <td>-1597</td>\n",
       "    </tr>\n",
       "    <tr>\n",
       "      <th>26</th>\n",
       "      <td>Indonesia</td>\n",
       "      <td>1718</td>\n",
       "      <td>11.6</td>\n",
       "      <td>2.3</td>\n",
       "      <td>Italia</td>\n",
       "      <td>1370</td>\n",
       "      <td>26.3</td>\n",
       "      <td>1.9</td>\n",
       "      <td>Bolivia</td>\n",
       "      <td>-1558</td>\n",
       "    </tr>\n",
       "    <tr>\n",
       "      <th>27</th>\n",
       "      <td>Resto</td>\n",
       "      <td>32927</td>\n",
       "      <td>12.3</td>\n",
       "      <td>43.8</td>\n",
       "      <td>Resto</td>\n",
       "      <td>20738</td>\n",
       "      <td>36.3</td>\n",
       "      <td>29.3</td>\n",
       "      <td>Resto</td>\n",
       "      <td>11122</td>\n",
       "    </tr>\n",
       "  </tbody>\n",
       "</table>\n",
       "</div>"
      ],
      "text/plain": [
       "   <Exportación - País> <Exportación - Millones de dólares>  \\\n",
       "0                  País                 Millones de dólares   \n",
       "2       Octubre de 2022                                 NaN   \n",
       "3                 Total                                7901   \n",
       "4                 China                                1636   \n",
       "5                Brasil                                1123   \n",
       "6        Estados Unidos                                 646   \n",
       "7                 Chile                                 351   \n",
       "8          Países Bajos                                 340   \n",
       "9              Viet Nam                                 241   \n",
       "10                 Perú                                 213   \n",
       "11               Italia                                 206   \n",
       "12              Uruguay                                 169   \n",
       "13                India                                 165   \n",
       "14                Resto                                2811   \n",
       "15   Diez meses de 2022                                 NaN   \n",
       "16                Total                               75144   \n",
       "17               Brasil                               10462   \n",
       "18                China                                6838   \n",
       "19       Estados Unidos                                5828   \n",
       "20                Chile                                4156   \n",
       "21                India                                3800   \n",
       "22         Países Bajos                                2921   \n",
       "23             Viet Nam                                2751   \n",
       "24                 Perú                                2013   \n",
       "25   República de Corea                                1730   \n",
       "26            Indonesia                                1718   \n",
       "27                Resto                               32927   \n",
       "\n",
       "   <Exportación - Variación porcentual>  \\\n",
       "0                  Variación porcentual   \n",
       "2                                   NaN   \n",
       "3                                  15.1   \n",
       "4                                 220.2   \n",
       "5                                   0.8   \n",
       "6                                  33.5   \n",
       "7                                 -16.4   \n",
       "8                                   1.8   \n",
       "9                                   2.6   \n",
       "10                                  3.4   \n",
       "11                                123.9   \n",
       "12                                   31   \n",
       "13                                -62.2   \n",
       "14                                 -3.1   \n",
       "15                                  NaN   \n",
       "16                                 15.3   \n",
       "17                                 10.2   \n",
       "18                                 21.7   \n",
       "19                                 45.1   \n",
       "20                                 25.9   \n",
       "21                                 13.5   \n",
       "22                                  9.4   \n",
       "23                                    0   \n",
       "24                                 23.5   \n",
       "25                                 17.3   \n",
       "26                                 11.6   \n",
       "27                                 12.3   \n",
       "\n",
       "   <Exportación - Participación porcentual> <Importación - País>  \\\n",
       "0                  Participación porcentual                 País   \n",
       "2                                       NaN                  NaN   \n",
       "3                                       100                Total   \n",
       "4                                      20.7                China   \n",
       "5                                      14.2               Brasil   \n",
       "6                                       8.2       Estados Unidos   \n",
       "7                                       4.4             Alemania   \n",
       "8                                       4.3                India   \n",
       "9                                       3.1              Bolivia   \n",
       "10                                      2.7         Países Bajos   \n",
       "11                                      2.6            Tailandia   \n",
       "12                                      2.1               México   \n",
       "13                                      2.1             Paraguay   \n",
       "14                                     35.6                Resto   \n",
       "15                                      NaN                  NaN   \n",
       "16                                      100                Total   \n",
       "17                                     13.9                China   \n",
       "18                                      9.1               Brasil   \n",
       "19                                      7.8       Estados Unidos   \n",
       "20                                      5.5             Alemania   \n",
       "21                                      5.1              Bolivia   \n",
       "22                                      3.9             Paraguay   \n",
       "23                                      3.7                India   \n",
       "24                                      2.7            Tailandia   \n",
       "25                                      2.3               México   \n",
       "26                                      2.3               Italia   \n",
       "27                                     43.8                Resto   \n",
       "\n",
       "   <Importación - Millones de dólares> <Importación - Variación porcentual>  \\\n",
       "0                  Millones de dólares                 Variación porcentual   \n",
       "2                                  NaN                                  NaN   \n",
       "3                                 6074                                 15.8   \n",
       "4                                 1501                                 13.5   \n",
       "5                                 1247                                 24.5   \n",
       "6                                  628                                 48.8   \n",
       "7                                  232                                  8.9   \n",
       "8                                  210                                 61.5   \n",
       "9                                  150                                105.5   \n",
       "10                                 139                                131.7   \n",
       "11                                 136                                  9.7   \n",
       "12                                 119                                 58.7   \n",
       "13                                 116                                -34.8   \n",
       "14                                1596                                 -3.1   \n",
       "15                                 NaN                                  NaN   \n",
       "16                               70738                                 38.2   \n",
       "17                               14858                                   37   \n",
       "18                               13806                                 36.3   \n",
       "19                                9219                                 91.3   \n",
       "20                                2345                                   11   \n",
       "21                                2014                                128.9   \n",
       "22                                1775                                -31.2   \n",
       "23                                1655                                 42.1   \n",
       "24                                1534                                 21.5   \n",
       "25                                1424                                 29.1   \n",
       "26                                1370                                 26.3   \n",
       "27                               20738                                 36.3   \n",
       "\n",
       "   <Importación - Participación porcentual>  <Saldo - País>  \\\n",
       "0                  Participación porcentual            País   \n",
       "2                                       NaN             NaN   \n",
       "3                                       100           Total   \n",
       "4                                      24.7           Chile   \n",
       "5                                      20.5    Países Bajos   \n",
       "6                                      10.3            Perú   \n",
       "7                                       3.8        Viet Nam   \n",
       "8                                       3.5           China   \n",
       "9                                       2.5        Alemania   \n",
       "10                                      2.3          Brasil   \n",
       "11                                      2.2         Uruguay   \n",
       "12                                        2       Tailandia   \n",
       "13                                      1.9         Argelia   \n",
       "14                                     26.3           Resto   \n",
       "15                                      NaN             NaN   \n",
       "16                                      100           Total   \n",
       "17                                       21           China   \n",
       "18                                     19.5           Chile   \n",
       "19                                       13  Estados Unidos   \n",
       "20                                      3.3          Brasil   \n",
       "21                                      2.8           India   \n",
       "22                                      2.5    Países Bajos   \n",
       "23                                      2.3            Perú   \n",
       "24                                      2.2        Viet Nam   \n",
       "25                                        2        Alemania   \n",
       "26                                      1.9         Bolivia   \n",
       "27                                     29.3           Resto   \n",
       "\n",
       "   <Saldo - Millones de dólares>  \n",
       "0            Millones de dólares  \n",
       "2                            NaN  \n",
       "3                           1827  \n",
       "4                            294  \n",
       "5                            201  \n",
       "6                            189  \n",
       "7                            160  \n",
       "8                            135  \n",
       "9                           -132  \n",
       "10                          -124  \n",
       "11                           123  \n",
       "12                          -115  \n",
       "13                           107  \n",
       "14                           989  \n",
       "15                           NaN  \n",
       "16                          4406  \n",
       "17                         -8020  \n",
       "18                          3490  \n",
       "19                         -3391  \n",
       "20                         -3344  \n",
       "21                          2145  \n",
       "22                          2142  \n",
       "23                          1747  \n",
       "24                          1670  \n",
       "25                         -1597  \n",
       "26                         -1558  \n",
       "27                         11122  "
      ]
     },
     "execution_count": 3,
     "metadata": {},
     "output_type": "execute_result"
    }
   ],
   "source": [
    "socios_tabla"
   ]
  },
  {
   "cell_type": "code",
   "execution_count": 4,
   "metadata": {},
   "outputs": [],
   "source": [
    "expo_socios = socios_tabla[16:].reset_index(drop=True)\n",
    "expo_socios = expo_socios[expo_socios.columns[:4]] \n",
    "expo_socios.columns = [\"País\", \"Exportación\", \"Variación porcentual\",\"Participación porcentual\"]\n",
    "impo_socios = socios_tabla[16:].reset_index(drop=True)\n",
    "impo_socios = impo_socios[impo_socios.columns[4:8]] \n",
    "impo_socios.columns = [\"País\", \"Importación\", \"Variación porcentual\",\"Participación porcentual\"]\n",
    "# impo_socios"
   ]
  },
  {
   "cell_type": "code",
   "execution_count": 5,
   "metadata": {},
   "outputs": [],
   "source": [
    "CONTINENTES_DICT = {\n",
    "    '1':'África',\n",
    "    '2': \"América\",\n",
    "    '3': \"Asia\",\n",
    "    \"4\": \"Europa\",\n",
    "    \"5\": \"Oceanía\",\n",
    "    \"9\": \"Indeterminado\",\n",
    "}\n",
    "DIC_MESES = {\n",
    "    1:\"enero\",\n",
    "    2:\"febrero\",\n",
    "    3:\"marzo\",\n",
    "    4:\"abril\",\n",
    "    5:\"mayo\",\n",
    "    6:\"junio\",\n",
    "    7:\"julio\",\n",
    "    8:\"agosto\",\n",
    "    9:\"septiembre\",\n",
    "    10:\"octubre\",\n",
    "    11: \"noviembre\",\n",
    "    12: \"diciembre\"\n",
    "}\n",
    "def genera_tablas_con_continentes(df):\n",
    "    df[\"continente\"] = df.pais_cod.apply(lambda x: CONTINENTES_DICT[str(x)[0]])\n",
    "    df.pais_descri = df.pais_descri.apply(lambda x: x.capitalize())\n",
    "    df = df.sort_values([\"anio\",\"mes\"],ascending=True).reset_index(drop=True)\n",
    "    return df    \n",
    "\n",
    "def genera_tablas_acumulado_y_mensual(df, comercio):\n",
    "    valuacion = \"cif\" if comercio == \"impo\" else \"fob\"\n",
    "    # Los datos mensuales\n",
    "    ultimo_mes = df.mes.iloc[-1]\n",
    "    ultimo_anio = df.anio.iloc[-1]\n",
    "    socios_sas_mensual = df.copy()\n",
    "    socios_sas_mensual[\"Variación porcentual\"] = socios_sas_mensual.groupby(['pais_cod', 'pais_descri'])[valuacion].pct_change(12,fill_method=None)\n",
    "    socios_sas_mensual = socios_sas_mensual[(socios_sas_mensual.anio == ultimo_anio)&(socios_sas_mensual.mes == ultimo_mes)].reset_index(drop=True)\n",
    "    socios_sas_mensual[\"Participación Porcentual\"] = socios_sas_mensual[valuacion] / socios_sas_mensual[valuacion].sum()\n",
    "    \n",
    "    # Acumulados\n",
    "    socios_sas_acumulado = df[(df.mes <= ultimo_mes)].reset_index(drop=True).copy()\n",
    "    socios_sas_acumulado = socios_sas_acumulado.groupby([\"anio\",\"pais_descri\",\"pais_cod\",\"continente\"],as_index=False).sum().drop(\"mes\",axis=1)\n",
    "    socios_sas_acumulado[\"Variación porcentual\"] = socios_sas_acumulado.groupby(['pais_cod', 'pais_descri'])[valuacion].pct_change(fill_method=None)\n",
    "    socios_sas_acumulado = socios_sas_acumulado[socios_sas_acumulado.anio == 2022].reset_index(drop=True).drop(\"anio\",axis=1)\n",
    "    socios_sas_acumulado[\"Participación Porcentual\"] = socios_sas_acumulado[valuacion] / socios_sas_acumulado[valuacion].sum()\n",
    "    \n",
    "    return socios_sas_acumulado, socios_sas_mensual\n",
    "\n",
    "\n",
    "def genera_tabla_presentable_mensual(df_mensual, comercio):\n",
    "    valuacion = \"cif\" if comercio == \"impo\" else \"fob\"\n",
    "    socios_sas_mensual_presentable = df_mensual.rename({\"pais_descri\":\"País\",valuacion: \"Millones de dólares\"}, axis = 1).copy()\n",
    "    socios_sas_mensual_presentable.drop([\"anio\",\"mes\",\"pais_cod\",\"continente\"],axis = 1, inplace=True)\n",
    "    socios_sas_mensual_presentable = socios_sas_mensual_presentable.sort_values(\"Millones de dólares\",ascending=False).reset_index(drop=True)\n",
    "    socios_sas_mensual_presentable = socios_sas_mensual_presentable[:10]\n",
    "    total = df_mensual[valuacion].sum()\n",
    "    sub_total = socios_sas_mensual_presentable[:10][\"Millones de dólares\"].sum()\n",
    "    socios_sas_mensual_presentable.loc[-1] = [\"Resto\", (total-sub_total),0, (total-sub_total)/total]\n",
    "    socios_sas_mensual_presentable = socios_sas_mensual_presentable.reset_index(drop=True)\n",
    "    return socios_sas_mensual_presentable\n",
    "    \n",
    "\n",
    "def genera_tabla_presentable_acumulado(df_acumulado, comercio):\n",
    "    #incorporar comercio\n",
    "    valuacion = \"cif\" if comercio == \"impo\" else \"fob\"\n",
    "    socios_sas_acumulado_presentable = df_acumulado.rename({\"pais_descri\":\"País\",valuacion: \"Millones de dólares\"}, axis = 1).copy()\n",
    "    socios_sas_acumulado_presentable.drop([\"pais_cod\",\"continente\"],axis = 1, inplace=True)\n",
    "    socios_sas_acumulado_presentable = socios_sas_acumulado_presentable.sort_values(\"Millones de dólares\",ascending=False).reset_index(drop=True)\n",
    "    total = df_acumulado[valuacion].sum()\n",
    "    sub_total = socios_sas_acumulado_presentable[:10][\"Millones de dólares\"].sum()\n",
    "    socios_sas_acumulado_presentable = socios_sas_acumulado_presentable[:10]\n",
    "    socios_sas_acumulado_presentable.loc[-1] = [\"Resto\", (total-sub_total),0, (total-sub_total)/total]\n",
    "    socios_sas_acumulado_presentable = socios_sas_acumulado_presentable.reset_index(drop=True)\n",
    "    return socios_sas_acumulado_presentable\n",
    "    \n",
    "\n"
   ]
  },
  {
   "cell_type": "code",
   "execution_count": 6,
   "metadata": {},
   "outputs": [
    {
     "data": {
      "text/html": [
       "<div>\n",
       "<style scoped>\n",
       "    .dataframe tbody tr th:only-of-type {\n",
       "        vertical-align: middle;\n",
       "    }\n",
       "\n",
       "    .dataframe tbody tr th {\n",
       "        vertical-align: top;\n",
       "    }\n",
       "\n",
       "    .dataframe thead th {\n",
       "        text-align: right;\n",
       "    }\n",
       "</style>\n",
       "<table border=\"1\" class=\"dataframe\">\n",
       "  <thead>\n",
       "    <tr style=\"text-align: right;\">\n",
       "      <th></th>\n",
       "      <th>País</th>\n",
       "      <th>Millones de dólares</th>\n",
       "      <th>Variación porcentual</th>\n",
       "      <th>Participación Porcentual</th>\n",
       "    </tr>\n",
       "  </thead>\n",
       "  <tbody>\n",
       "    <tr>\n",
       "      <th>0</th>\n",
       "      <td>China</td>\n",
       "      <td>16320.054333</td>\n",
       "      <td>0.359871</td>\n",
       "      <td>0.213353</td>\n",
       "    </tr>\n",
       "    <tr>\n",
       "      <th>1</th>\n",
       "      <td>Brasil</td>\n",
       "      <td>14930.663958</td>\n",
       "      <td>0.328210</td>\n",
       "      <td>0.195190</td>\n",
       "    </tr>\n",
       "    <tr>\n",
       "      <th>2</th>\n",
       "      <td>Estados unidos</td>\n",
       "      <td>9770.275443</td>\n",
       "      <td>0.831315</td>\n",
       "      <td>0.127728</td>\n",
       "    </tr>\n",
       "    <tr>\n",
       "      <th>3</th>\n",
       "      <td>Alemania</td>\n",
       "      <td>2556.357358</td>\n",
       "      <td>0.091695</td>\n",
       "      <td>0.033419</td>\n",
       "    </tr>\n",
       "    <tr>\n",
       "      <th>4</th>\n",
       "      <td>Bolivia</td>\n",
       "      <td>2113.626527</td>\n",
       "      <td>1.204142</td>\n",
       "      <td>0.027632</td>\n",
       "    </tr>\n",
       "    <tr>\n",
       "      <th>5</th>\n",
       "      <td>Paraguay</td>\n",
       "      <td>1871.836050</td>\n",
       "      <td>-0.325183</td>\n",
       "      <td>0.024471</td>\n",
       "    </tr>\n",
       "    <tr>\n",
       "      <th>6</th>\n",
       "      <td>India</td>\n",
       "      <td>1766.536058</td>\n",
       "      <td>0.379027</td>\n",
       "      <td>0.023094</td>\n",
       "    </tr>\n",
       "    <tr>\n",
       "      <th>7</th>\n",
       "      <td>Tailandia</td>\n",
       "      <td>1703.667644</td>\n",
       "      <td>0.219497</td>\n",
       "      <td>0.022272</td>\n",
       "    </tr>\n",
       "    <tr>\n",
       "      <th>8</th>\n",
       "      <td>Mexico</td>\n",
       "      <td>1562.042938</td>\n",
       "      <td>0.235446</td>\n",
       "      <td>0.020421</td>\n",
       "    </tr>\n",
       "    <tr>\n",
       "      <th>9</th>\n",
       "      <td>Italia</td>\n",
       "      <td>1540.826619</td>\n",
       "      <td>0.283485</td>\n",
       "      <td>0.020143</td>\n",
       "    </tr>\n",
       "    <tr>\n",
       "      <th>10</th>\n",
       "      <td>Resto</td>\n",
       "      <td>22357.200927</td>\n",
       "      <td>0.000000</td>\n",
       "      <td>0.292277</td>\n",
       "    </tr>\n",
       "  </tbody>\n",
       "</table>\n",
       "</div>"
      ],
      "text/plain": [
       "              País  Millones de dólares  Variación porcentual  \\\n",
       "0            China         16320.054333              0.359871   \n",
       "1           Brasil         14930.663958              0.328210   \n",
       "2   Estados unidos          9770.275443              0.831315   \n",
       "3         Alemania          2556.357358              0.091695   \n",
       "4          Bolivia          2113.626527              1.204142   \n",
       "5         Paraguay          1871.836050             -0.325183   \n",
       "6            India          1766.536058              0.379027   \n",
       "7        Tailandia          1703.667644              0.219497   \n",
       "8           Mexico          1562.042938              0.235446   \n",
       "9           Italia          1540.826619              0.283485   \n",
       "10           Resto         22357.200927              0.000000   \n",
       "\n",
       "    Participación Porcentual  \n",
       "0                   0.213353  \n",
       "1                   0.195190  \n",
       "2                   0.127728  \n",
       "3                   0.033419  \n",
       "4                   0.027632  \n",
       "5                   0.024471  \n",
       "6                   0.023094  \n",
       "7                   0.022272  \n",
       "8                   0.020421  \n",
       "9                   0.020143  \n",
       "10                  0.292277  "
      ]
     },
     "execution_count": 6,
     "metadata": {},
     "output_type": "execute_result"
    }
   ],
   "source": [
    "#IMPORTACIONES\n",
    "socios_sas_impo = pd.read_csv(\"../data/socios_impo.csv\", sep=\";\")\n",
    "socios_sas_impo.cif = socios_sas_impo.cif/1000000\n",
    "\n",
    "#Agregamos continentes y capitalizamos los países\n",
    "socios_sas_impo = genera_tablas_con_continentes(socios_sas_impo)\n",
    "\n",
    "#última fecha de los datos. Útil para los gráficos\n",
    "ultimo_mes = socios_sas_impo.mes.iloc[-1]\n",
    "ultimo_anio = socios_sas_impo.anio.iloc[-1]\n",
    "\n",
    "# Tablas mensuales y acumuladas. Importan las presentables\n",
    "socios_sas_impo_acumulado, socios_sas_impo_mensual = genera_tablas_acumulado_y_mensual(socios_sas_impo, \"impo\")\n",
    "\n",
    "socios_sas_impo_mensual_presentable = genera_tabla_presentable_mensual(socios_sas_impo_mensual, \"impo\")\n",
    "\n",
    "socios_sas_impo_acumulado_presentable = genera_tabla_presentable_acumulado(socios_sas_impo_acumulado, \"impo\")\n",
    "socios_sas_impo_acumulado_presentable"
   ]
  },
  {
   "cell_type": "code",
   "execution_count": 7,
   "metadata": {},
   "outputs": [],
   "source": [
    "#EXPORTACIONES\n",
    "socios_sas_expo = pd.read_csv(\"../data/socios_expo.csv\", sep=\";\")\n",
    "socios_sas_expo.fob = socios_sas_expo.fob/1000000\n",
    "\n",
    "#Agregamos continentes y capitalizamos los países\n",
    "socios_sas_expo = genera_tablas_con_continentes(socios_sas_expo)\n",
    "\n",
    "# Tablas mensuales y acumuladas. Importan las presentables\n",
    "socios_sas_expo_acumulado, socios_sas_expo_mensual = genera_tablas_acumulado_y_mensual(socios_sas_expo, \"expo\")\n",
    "\n",
    "socios_sas_expo_mensual_presentable = genera_tabla_presentable_mensual(socios_sas_expo_mensual, \"expo\")\n",
    "\n",
    "socios_sas_expo_acumulado_presentable = genera_tabla_presentable_acumulado(socios_sas_expo_acumulado, \"expo\")"
   ]
  },
  {
   "cell_type": "code",
   "execution_count": 8,
   "metadata": {},
   "outputs": [
    {
     "data": {
      "application/vnd.plotly.v1+json": {
       "config": {
        "plotlyServerURL": "https://plot.ly"
       },
       "data": [
        {
         "domain": {
          "x": [
           0,
           0.45
          ],
          "y": [
           0,
           1
          ]
         },
         "labels": [
          "Brasil",
          "China",
          "Estados Unidos",
          "Chile",
          "India",
          "Países Bajos",
          "Viet Nam",
          "Perú",
          "República de Corea",
          "Indonesia",
          "Resto"
         ],
         "scalegroup": "one",
         "type": "pie",
         "values": [
          10462,
          6838,
          5828,
          4156,
          3800,
          2921,
          2751,
          2013,
          1730,
          1718,
          32927
         ]
        },
        {
         "domain": {
          "x": [
           0.55,
           1
          ],
          "y": [
           0,
           1
          ]
         },
         "labels": [
          "China",
          "Brasil",
          "Estados Unidos",
          "Alemania",
          "Bolivia",
          "Paraguay",
          "India",
          "Tailandia",
          "México",
          "Italia",
          "Resto"
         ],
         "scalegroup": "one",
         "type": "pie",
         "values": [
          14858,
          13806,
          9219,
          2345,
          2014,
          1775,
          1655,
          1534,
          1424,
          1370,
          20738
         ]
        }
       ],
       "layout": {
        "annotations": [
         {
          "font": {
           "size": 16
          },
          "showarrow": false,
          "text": "Expo",
          "x": 0.225,
          "xanchor": "center",
          "xref": "paper",
          "y": 1,
          "yanchor": "bottom",
          "yref": "paper"
         },
         {
          "font": {
           "size": 16
          },
          "showarrow": false,
          "text": "Impo",
          "x": 0.775,
          "xanchor": "center",
          "xref": "paper",
          "y": 1,
          "yanchor": "bottom",
          "yref": "paper"
         }
        ],
        "template": {
         "data": {
          "bar": [
           {
            "error_x": {
             "color": "#2a3f5f"
            },
            "error_y": {
             "color": "#2a3f5f"
            },
            "marker": {
             "line": {
              "color": "#E5ECF6",
              "width": 0.5
             },
             "pattern": {
              "fillmode": "overlay",
              "size": 10,
              "solidity": 0.2
             }
            },
            "type": "bar"
           }
          ],
          "barpolar": [
           {
            "marker": {
             "line": {
              "color": "#E5ECF6",
              "width": 0.5
             },
             "pattern": {
              "fillmode": "overlay",
              "size": 10,
              "solidity": 0.2
             }
            },
            "type": "barpolar"
           }
          ],
          "carpet": [
           {
            "aaxis": {
             "endlinecolor": "#2a3f5f",
             "gridcolor": "white",
             "linecolor": "white",
             "minorgridcolor": "white",
             "startlinecolor": "#2a3f5f"
            },
            "baxis": {
             "endlinecolor": "#2a3f5f",
             "gridcolor": "white",
             "linecolor": "white",
             "minorgridcolor": "white",
             "startlinecolor": "#2a3f5f"
            },
            "type": "carpet"
           }
          ],
          "choropleth": [
           {
            "colorbar": {
             "outlinewidth": 0,
             "ticks": ""
            },
            "type": "choropleth"
           }
          ],
          "contour": [
           {
            "colorbar": {
             "outlinewidth": 0,
             "ticks": ""
            },
            "colorscale": [
             [
              0,
              "#0d0887"
             ],
             [
              0.1111111111111111,
              "#46039f"
             ],
             [
              0.2222222222222222,
              "#7201a8"
             ],
             [
              0.3333333333333333,
              "#9c179e"
             ],
             [
              0.4444444444444444,
              "#bd3786"
             ],
             [
              0.5555555555555556,
              "#d8576b"
             ],
             [
              0.6666666666666666,
              "#ed7953"
             ],
             [
              0.7777777777777778,
              "#fb9f3a"
             ],
             [
              0.8888888888888888,
              "#fdca26"
             ],
             [
              1,
              "#f0f921"
             ]
            ],
            "type": "contour"
           }
          ],
          "contourcarpet": [
           {
            "colorbar": {
             "outlinewidth": 0,
             "ticks": ""
            },
            "type": "contourcarpet"
           }
          ],
          "heatmap": [
           {
            "colorbar": {
             "outlinewidth": 0,
             "ticks": ""
            },
            "colorscale": [
             [
              0,
              "#0d0887"
             ],
             [
              0.1111111111111111,
              "#46039f"
             ],
             [
              0.2222222222222222,
              "#7201a8"
             ],
             [
              0.3333333333333333,
              "#9c179e"
             ],
             [
              0.4444444444444444,
              "#bd3786"
             ],
             [
              0.5555555555555556,
              "#d8576b"
             ],
             [
              0.6666666666666666,
              "#ed7953"
             ],
             [
              0.7777777777777778,
              "#fb9f3a"
             ],
             [
              0.8888888888888888,
              "#fdca26"
             ],
             [
              1,
              "#f0f921"
             ]
            ],
            "type": "heatmap"
           }
          ],
          "heatmapgl": [
           {
            "colorbar": {
             "outlinewidth": 0,
             "ticks": ""
            },
            "colorscale": [
             [
              0,
              "#0d0887"
             ],
             [
              0.1111111111111111,
              "#46039f"
             ],
             [
              0.2222222222222222,
              "#7201a8"
             ],
             [
              0.3333333333333333,
              "#9c179e"
             ],
             [
              0.4444444444444444,
              "#bd3786"
             ],
             [
              0.5555555555555556,
              "#d8576b"
             ],
             [
              0.6666666666666666,
              "#ed7953"
             ],
             [
              0.7777777777777778,
              "#fb9f3a"
             ],
             [
              0.8888888888888888,
              "#fdca26"
             ],
             [
              1,
              "#f0f921"
             ]
            ],
            "type": "heatmapgl"
           }
          ],
          "histogram": [
           {
            "marker": {
             "pattern": {
              "fillmode": "overlay",
              "size": 10,
              "solidity": 0.2
             }
            },
            "type": "histogram"
           }
          ],
          "histogram2d": [
           {
            "colorbar": {
             "outlinewidth": 0,
             "ticks": ""
            },
            "colorscale": [
             [
              0,
              "#0d0887"
             ],
             [
              0.1111111111111111,
              "#46039f"
             ],
             [
              0.2222222222222222,
              "#7201a8"
             ],
             [
              0.3333333333333333,
              "#9c179e"
             ],
             [
              0.4444444444444444,
              "#bd3786"
             ],
             [
              0.5555555555555556,
              "#d8576b"
             ],
             [
              0.6666666666666666,
              "#ed7953"
             ],
             [
              0.7777777777777778,
              "#fb9f3a"
             ],
             [
              0.8888888888888888,
              "#fdca26"
             ],
             [
              1,
              "#f0f921"
             ]
            ],
            "type": "histogram2d"
           }
          ],
          "histogram2dcontour": [
           {
            "colorbar": {
             "outlinewidth": 0,
             "ticks": ""
            },
            "colorscale": [
             [
              0,
              "#0d0887"
             ],
             [
              0.1111111111111111,
              "#46039f"
             ],
             [
              0.2222222222222222,
              "#7201a8"
             ],
             [
              0.3333333333333333,
              "#9c179e"
             ],
             [
              0.4444444444444444,
              "#bd3786"
             ],
             [
              0.5555555555555556,
              "#d8576b"
             ],
             [
              0.6666666666666666,
              "#ed7953"
             ],
             [
              0.7777777777777778,
              "#fb9f3a"
             ],
             [
              0.8888888888888888,
              "#fdca26"
             ],
             [
              1,
              "#f0f921"
             ]
            ],
            "type": "histogram2dcontour"
           }
          ],
          "mesh3d": [
           {
            "colorbar": {
             "outlinewidth": 0,
             "ticks": ""
            },
            "type": "mesh3d"
           }
          ],
          "parcoords": [
           {
            "line": {
             "colorbar": {
              "outlinewidth": 0,
              "ticks": ""
             }
            },
            "type": "parcoords"
           }
          ],
          "pie": [
           {
            "automargin": true,
            "type": "pie"
           }
          ],
          "scatter": [
           {
            "marker": {
             "colorbar": {
              "outlinewidth": 0,
              "ticks": ""
             }
            },
            "type": "scatter"
           }
          ],
          "scatter3d": [
           {
            "line": {
             "colorbar": {
              "outlinewidth": 0,
              "ticks": ""
             }
            },
            "marker": {
             "colorbar": {
              "outlinewidth": 0,
              "ticks": ""
             }
            },
            "type": "scatter3d"
           }
          ],
          "scattercarpet": [
           {
            "marker": {
             "colorbar": {
              "outlinewidth": 0,
              "ticks": ""
             }
            },
            "type": "scattercarpet"
           }
          ],
          "scattergeo": [
           {
            "marker": {
             "colorbar": {
              "outlinewidth": 0,
              "ticks": ""
             }
            },
            "type": "scattergeo"
           }
          ],
          "scattergl": [
           {
            "marker": {
             "colorbar": {
              "outlinewidth": 0,
              "ticks": ""
             }
            },
            "type": "scattergl"
           }
          ],
          "scattermapbox": [
           {
            "marker": {
             "colorbar": {
              "outlinewidth": 0,
              "ticks": ""
             }
            },
            "type": "scattermapbox"
           }
          ],
          "scatterpolar": [
           {
            "marker": {
             "colorbar": {
              "outlinewidth": 0,
              "ticks": ""
             }
            },
            "type": "scatterpolar"
           }
          ],
          "scatterpolargl": [
           {
            "marker": {
             "colorbar": {
              "outlinewidth": 0,
              "ticks": ""
             }
            },
            "type": "scatterpolargl"
           }
          ],
          "scatterternary": [
           {
            "marker": {
             "colorbar": {
              "outlinewidth": 0,
              "ticks": ""
             }
            },
            "type": "scatterternary"
           }
          ],
          "surface": [
           {
            "colorbar": {
             "outlinewidth": 0,
             "ticks": ""
            },
            "colorscale": [
             [
              0,
              "#0d0887"
             ],
             [
              0.1111111111111111,
              "#46039f"
             ],
             [
              0.2222222222222222,
              "#7201a8"
             ],
             [
              0.3333333333333333,
              "#9c179e"
             ],
             [
              0.4444444444444444,
              "#bd3786"
             ],
             [
              0.5555555555555556,
              "#d8576b"
             ],
             [
              0.6666666666666666,
              "#ed7953"
             ],
             [
              0.7777777777777778,
              "#fb9f3a"
             ],
             [
              0.8888888888888888,
              "#fdca26"
             ],
             [
              1,
              "#f0f921"
             ]
            ],
            "type": "surface"
           }
          ],
          "table": [
           {
            "cells": {
             "fill": {
              "color": "#EBF0F8"
             },
             "line": {
              "color": "white"
             }
            },
            "header": {
             "fill": {
              "color": "#C8D4E3"
             },
             "line": {
              "color": "white"
             }
            },
            "type": "table"
           }
          ]
         },
         "layout": {
          "annotationdefaults": {
           "arrowcolor": "#2a3f5f",
           "arrowhead": 0,
           "arrowwidth": 1
          },
          "autotypenumbers": "strict",
          "coloraxis": {
           "colorbar": {
            "outlinewidth": 0,
            "ticks": ""
           }
          },
          "colorscale": {
           "diverging": [
            [
             0,
             "#8e0152"
            ],
            [
             0.1,
             "#c51b7d"
            ],
            [
             0.2,
             "#de77ae"
            ],
            [
             0.3,
             "#f1b6da"
            ],
            [
             0.4,
             "#fde0ef"
            ],
            [
             0.5,
             "#f7f7f7"
            ],
            [
             0.6,
             "#e6f5d0"
            ],
            [
             0.7,
             "#b8e186"
            ],
            [
             0.8,
             "#7fbc41"
            ],
            [
             0.9,
             "#4d9221"
            ],
            [
             1,
             "#276419"
            ]
           ],
           "sequential": [
            [
             0,
             "#0d0887"
            ],
            [
             0.1111111111111111,
             "#46039f"
            ],
            [
             0.2222222222222222,
             "#7201a8"
            ],
            [
             0.3333333333333333,
             "#9c179e"
            ],
            [
             0.4444444444444444,
             "#bd3786"
            ],
            [
             0.5555555555555556,
             "#d8576b"
            ],
            [
             0.6666666666666666,
             "#ed7953"
            ],
            [
             0.7777777777777778,
             "#fb9f3a"
            ],
            [
             0.8888888888888888,
             "#fdca26"
            ],
            [
             1,
             "#f0f921"
            ]
           ],
           "sequentialminus": [
            [
             0,
             "#0d0887"
            ],
            [
             0.1111111111111111,
             "#46039f"
            ],
            [
             0.2222222222222222,
             "#7201a8"
            ],
            [
             0.3333333333333333,
             "#9c179e"
            ],
            [
             0.4444444444444444,
             "#bd3786"
            ],
            [
             0.5555555555555556,
             "#d8576b"
            ],
            [
             0.6666666666666666,
             "#ed7953"
            ],
            [
             0.7777777777777778,
             "#fb9f3a"
            ],
            [
             0.8888888888888888,
             "#fdca26"
            ],
            [
             1,
             "#f0f921"
            ]
           ]
          },
          "colorway": [
           "#636efa",
           "#EF553B",
           "#00cc96",
           "#ab63fa",
           "#FFA15A",
           "#19d3f3",
           "#FF6692",
           "#B6E880",
           "#FF97FF",
           "#FECB52"
          ],
          "font": {
           "color": "#2a3f5f"
          },
          "geo": {
           "bgcolor": "white",
           "lakecolor": "white",
           "landcolor": "#E5ECF6",
           "showlakes": true,
           "showland": true,
           "subunitcolor": "white"
          },
          "hoverlabel": {
           "align": "left"
          },
          "hovermode": "closest",
          "mapbox": {
           "style": "light"
          },
          "paper_bgcolor": "white",
          "plot_bgcolor": "#E5ECF6",
          "polar": {
           "angularaxis": {
            "gridcolor": "white",
            "linecolor": "white",
            "ticks": ""
           },
           "bgcolor": "#E5ECF6",
           "radialaxis": {
            "gridcolor": "white",
            "linecolor": "white",
            "ticks": ""
           }
          },
          "scene": {
           "xaxis": {
            "backgroundcolor": "#E5ECF6",
            "gridcolor": "white",
            "gridwidth": 2,
            "linecolor": "white",
            "showbackground": true,
            "ticks": "",
            "zerolinecolor": "white"
           },
           "yaxis": {
            "backgroundcolor": "#E5ECF6",
            "gridcolor": "white",
            "gridwidth": 2,
            "linecolor": "white",
            "showbackground": true,
            "ticks": "",
            "zerolinecolor": "white"
           },
           "zaxis": {
            "backgroundcolor": "#E5ECF6",
            "gridcolor": "white",
            "gridwidth": 2,
            "linecolor": "white",
            "showbackground": true,
            "ticks": "",
            "zerolinecolor": "white"
           }
          },
          "shapedefaults": {
           "line": {
            "color": "#2a3f5f"
           }
          },
          "ternary": {
           "aaxis": {
            "gridcolor": "white",
            "linecolor": "white",
            "ticks": ""
           },
           "baxis": {
            "gridcolor": "white",
            "linecolor": "white",
            "ticks": ""
           },
           "bgcolor": "#E5ECF6",
           "caxis": {
            "gridcolor": "white",
            "linecolor": "white",
            "ticks": ""
           }
          },
          "title": {
           "x": 0.05
          },
          "xaxis": {
           "automargin": true,
           "gridcolor": "white",
           "linecolor": "white",
           "ticks": "",
           "title": {
            "standoff": 15
           },
           "zerolinecolor": "white",
           "zerolinewidth": 2
          },
          "yaxis": {
           "automargin": true,
           "gridcolor": "white",
           "linecolor": "white",
           "ticks": "",
           "title": {
            "standoff": 15
           },
           "zerolinecolor": "white",
           "zerolinewidth": 2
          }
         }
        }
       }
      }
     },
     "metadata": {},
     "output_type": "display_data"
    }
   ],
   "source": [
    "# Opción 1: DESCARTADA\n",
    "import plotly.graph_objects as go\n",
    "from plotly.subplots import make_subplots\n",
    "#Separar más los títulos\n",
    "#Hacer la opción para que sea gráfico único\n",
    "\n",
    "specs = [[{'type':'domain'}, {'type':'domain'}]]\n",
    "# cafe_colors =  [\"#9e6e79\",\"#798b92\",\"#54a8ac\",\"#2fc5c5\",\"#09e1de\",\"#43c1bd\",\"#7ea19c\",\"#b8817b\",\"#d5716a\",\"#f26059\"]\n",
    "fig = make_subplots(1, 2, specs=specs, subplot_titles=['Expo', 'Impo'])\n",
    "fig.add_trace(go.Pie(labels=expo_socios.País, values= expo_socios.Exportación, scalegroup='one',), 1, 1)\n",
    "fig.add_trace(go.Pie(labels=impo_socios.País, values= impo_socios.Importación, scalegroup='one',), 1, 2)"
   ]
  },
  {
   "cell_type": "code",
   "execution_count": 9,
   "metadata": {},
   "outputs": [
    {
     "data": {
      "application/vnd.plotly.v1+json": {
       "config": {
        "plotlyServerURL": "https://plot.ly"
       },
       "data": [
        {
         "hole": 0.5,
         "labels": [
          "Brasil",
          "China",
          "Estados unidos",
          "Chile",
          "India",
          "Paises bajos",
          "Vietnam",
          "Peru",
          "Corea, republica de",
          "Indonesia",
          "Resto"
         ],
         "textinfo": "label+percent+label",
         "textposition": "inside",
         "type": "pie",
         "values": [
          11599.42961799,
          7671.6791054099995,
          6198.81430321,
          4578.07,
          4153.13352132,
          3352.11349841,
          2998.44092833,
          2247.29957849,
          1968.7549113200002,
          1890.7284090800001,
          35635.107780379985
         ]
        }
       ],
       "layout": {
        "annotations": [
         {
          "font": {
           "size": 20
          },
          "showarrow": false,
          "text": "82.294M"
         }
        ],
        "font": {
         "family": "verdana"
        },
        "margin": {
         "b": 30,
         "l": 10,
         "r": 10,
         "t": 70
        },
        "paper_bgcolor": "rgba(0,0,0,0)",
        "separators": ",.",
        "showlegend": false,
        "template": {},
        "title": {
         "text": "Principales países de exportación:<br>Acumulado hasta noviembre de 2022"
        }
       }
      }
     },
     "metadata": {},
     "output_type": "display_data"
    }
   ],
   "source": [
    "def plot_anillo_socios(df_presentable, acumulado:bool, ultimo_mes = ultimo_mes, ultimo_anio = ultimo_anio):\n",
    "    fecha = f\"Acumulado hasta {DIC_MESES[ultimo_mes]} de {ultimo_anio}\" if acumulado else \"Mes de noviembre\"\n",
    "    total = \"{:,d}\".format(int(round(df_presentable['Millones de dólares'].sum(),0))).replace(\",\",\".\")+\"M\"\n",
    "    fig = go.Figure(data=[go.Pie(labels=df_presentable.País, values=df_presentable['Millones de dólares'], hole=.5)])\n",
    "    fig.update_layout(title_text = f\"Principales países de exportación:<br>{fecha}\", template = None, font_family = \"verdana\",\n",
    "                    margin = dict(t=70, l=10, r=10, b=30), separators = \",.\",\n",
    "                    annotations = [dict(text = f\"{total}\", showarrow = False, font_size = 20)],\n",
    "                    showlegend= False,\n",
    "                    paper_bgcolor='rgba(0,0,0,0)')\n",
    "    fig.update_traces(textposition='inside', textinfo='label+percent+label')\n",
    "    return fig\n",
    "\n",
    "plot_anillo_socios(socios_sas_expo_mensual_presentable,  acumulado=False)\n",
    "plot_anillo_socios(socios_sas_expo_acumulado_presentable,acumulado=True)"
   ]
  },
  {
   "cell_type": "code",
   "execution_count": 10,
   "metadata": {},
   "outputs": [
    {
     "name": "stderr",
     "output_type": "stream",
     "text": [
      "C:\\Users\\mbasualdo\\AppData\\Local\\Temp\\ipykernel_14548\\1352287898.py:22: FutureWarning:\n",
      "\n",
      "The frame.append method is deprecated and will be removed from pandas in a future version. Use pandas.concat instead.\n",
      "\n",
      "C:\\Users\\mbasualdo\\AppData\\Local\\Temp\\ipykernel_14548\\1352287898.py:22: FutureWarning:\n",
      "\n",
      "The frame.append method is deprecated and will be removed from pandas in a future version. Use pandas.concat instead.\n",
      "\n",
      "C:\\Users\\mbasualdo\\AppData\\Local\\Temp\\ipykernel_14548\\1352287898.py:28: FutureWarning:\n",
      "\n",
      "The frame.append method is deprecated and will be removed from pandas in a future version. Use pandas.concat instead.\n",
      "\n",
      "C:\\Users\\mbasualdo\\AppData\\Local\\Temp\\ipykernel_14548\\1352287898.py:30: SettingWithCopyWarning:\n",
      "\n",
      "\n",
      "A value is trying to be set on a copy of a slice from a DataFrame\n",
      "\n",
      "See the caveats in the documentation: https://pandas.pydata.org/pandas-docs/stable/user_guide/indexing.html#returning-a-view-versus-a-copy\n",
      "\n",
      "C:\\Users\\mbasualdo\\AppData\\Local\\Temp\\ipykernel_14548\\1352287898.py:22: FutureWarning:\n",
      "\n",
      "The frame.append method is deprecated and will be removed from pandas in a future version. Use pandas.concat instead.\n",
      "\n",
      "C:\\Users\\mbasualdo\\AppData\\Local\\Temp\\ipykernel_14548\\1352287898.py:22: FutureWarning:\n",
      "\n",
      "The frame.append method is deprecated and will be removed from pandas in a future version. Use pandas.concat instead.\n",
      "\n",
      "C:\\Users\\mbasualdo\\AppData\\Local\\Temp\\ipykernel_14548\\1352287898.py:28: FutureWarning:\n",
      "\n",
      "The frame.append method is deprecated and will be removed from pandas in a future version. Use pandas.concat instead.\n",
      "\n",
      "C:\\Users\\mbasualdo\\AppData\\Local\\Temp\\ipykernel_14548\\1352287898.py:30: SettingWithCopyWarning:\n",
      "\n",
      "\n",
      "A value is trying to be set on a copy of a slice from a DataFrame\n",
      "\n",
      "See the caveats in the documentation: https://pandas.pydata.org/pandas-docs/stable/user_guide/indexing.html#returning-a-view-versus-a-copy\n",
      "\n"
     ]
    },
    {
     "data": {
      "application/vnd.plotly.v1+json": {
       "config": {
        "plotlyServerURL": "https://plot.ly"
       },
       "data": [
        {
         "branchvalues": "total",
         "hovertemplate": "<b>%{label} </b> <br> CIF: $%{value}<br> Proporcion: %{color:.2%}",
         "labels": [
          "Afganistan",
          "Albania",
          "Alemania",
          "Andorra",
          "Antigua y barbuda",
          "Arabia saudita",
          "Argelia",
          "Argentina",
          "Armenia",
          "Aruba",
          "Australia",
          "Austria",
          "Azerbaidzhan",
          "Bahamas",
          "Bahrein",
          "Bangladesh",
          "Barbados",
          "Belgica",
          "Belice",
          "Benin",
          "Bielorus",
          "Bolivia",
          "Bosnia herzegovina (ex432)",
          "Botswana",
          "Brasil",
          "Brunei",
          "Bulgaria",
          "Burkina faso",
          "Butan",
          "Cambodya  (ex kampuchea)",
          "Camerun",
          "Canada",
          "Chile",
          "China",
          "Chipre",
          "Colombia",
          "Comoras",
          "Congo",
          "Corea, republica de",
          "Costa rica",
          "Cote d'ivoire",
          "Croacia (ex432)",
          "Cuba",
          "Curazao",
          "Dinamarca",
          "Dominica",
          "Ecuador",
          "Egipto",
          "El salvador",
          "Emiratos arabes unidos",
          "Eritrea",
          "Eslovaquia",
          "Eslovenia (ex432)",
          "Espana",
          "Estados unidos",
          "Estonia",
          "Etiopia",
          "Fiji",
          "Filipinas",
          "Finlandia",
          "Francia",
          "Gabon",
          "Gambia",
          "Georgia",
          "Ghana",
          "Grecia",
          "Grenada",
          "Guatemala",
          "Guinea",
          "Guinea ecuatorial",
          "Guyana",
          "Haiti",
          "Honduras",
          "Hungria",
          "Indeterminado (continente)",
          "Indeterminado (europa)",
          "India",
          "Indonesia",
          "Iran",
          "Iraq",
          "Irlanda",
          "Islandia",
          "Islas salomon",
          "Israel",
          "Italia",
          "Jamaica",
          "Japon",
          "Jordania",
          "Kazajstan",
          "Kenya",
          "Kirguistan",
          "Kuwait",
          "Laos, rep?blica popular democr?tica de",
          "Lesotho",
          "Letonia",
          "Libano",
          "Libia",
          "Liechtenstein",
          "Lituania",
          "Luxemburgo",
          "Macedonia (ex 432)",
          "Madagascar",
          "Malasia",
          "Malawi",
          "Maldivas",
          "Mali",
          "Malta",
          "Marruecos",
          "Mauricio",
          "Mauritania",
          "Mexico",
          "Micronesia estados federados",
          "Moldova",
          "Monaco",
          "Mongolia",
          "Montenegro",
          "Mozambique",
          "Namibia",
          "Nepal",
          "Nicaragua",
          "Niger",
          "Nigeria",
          "Noruega",
          "Nueva zelanda",
          "Oman",
          "Paises bajos",
          "Panama",
          "Papua, nueva guinea",
          "Paquistan",
          "Paraguay",
          "Peru",
          "Polonia",
          "Portugal",
          "Qatar",
          "Reino unido de gran breta?a e irlanda del norte",
          "Rep. centroafricana",
          "Rep.democratica del congo(ex zaire)",
          "Republica checa",
          "Republica dominicana",
          "Rumania",
          "Rusia",
          "Rwanda",
          "Samoa  occidental",
          "San cristobal y nevis",
          "San marino",
          "San martin (parte holandesa)",
          "Santa lucia",
          "Santo tome y principe",
          "Senegal",
          "Serbia",
          "Seychelles",
          "Sierra leona",
          "Singapur",
          "Siria",
          "Somalia",
          "Sri lanka",
          "Sudafrica",
          "Sudan",
          "Suecia",
          "Suiza",
          "Suriname",
          "Swazilandia",
          "Tailandia",
          "Taiwan",
          "Tanzania",
          "Tayikistan",
          "Terr. australiano",
          "Terr. britanico-gibraltar",
          "Terr. britanicos",
          "Terr. frances",
          "Terr. neozelandes",
          "Terr.aut.palestinos(gaza y jerico)",
          "Timor oriental",
          "Trinidad y tobago",
          "Tunez",
          "Turkmenistan",
          "Turquia",
          "Ucrania",
          "Uganda",
          "Union de myanmar (ex birmania)",
          "Uruguay",
          "Uzbekistan",
          "Venezuela",
          "Vietnam",
          "Yemen",
          "Zimbabwe",
          "América",
          "Asia",
          "Europa",
          "Indeterminado",
          "Oceanía",
          "África",
          "Importaciones"
         ],
         "marker": {
          "colors": [
           3.171425115713258e-7,
           0.00001295150866291803,
           0.0334194556622537,
           1.243884940049385e-7,
           3.1229226940688276e-8,
           0.014208371015539505,
           0.0023679689185081045,
           0.0005792428240617032,
           0.0000011304786148071808,
           9.179391493990203e-9,
           0.005550605835366481,
           0.003162566421431108,
           9.950576206944417e-7,
           1.2783063508441843e-7,
           0.000934849060036457,
           0.000277799394900089,
           0.000001167346521164509,
           0.007837179739963673,
           1.930773147517102e-7,
           4.4866446057599466e-7,
           0.000013807777142034038,
           0.027631601579770612,
           0.00003734028616331486,
           4.880179509950072e-10,
           0.1951897142198491,
           0.0000012641551375729933,
           0.00044117303297026736,
           3.4351051496319287e-7,
           3.986503990796076e-8,
           0.00025628570828919225,
           0.0000028314481226352624,
           0.006263695660865543,
           0.009293163361149779,
           0.21335332107991042,
           0.000015556782493401246,
           0.005851014272187994,
           2.4220175338270186e-7,
           0.00036385244079786664,
           0.009009858448407328,
           0.0002746360746997006,
           0.00002142442455870985,
           0.0002340156917715973,
           0.000059058814027709175,
           0.0000020766571785191756,
           0.002555761127881805,
           1.6064523402931686e-7,
           0.004415106391347504,
           0.005526321071577952,
           0.000015740886186885293,
           0.011255201539104026,
           7.498586030303408e-9,
           0.0008389607900537043,
           0.0003453635720690813,
           0.01558334917160709,
           0.1277275596615122,
           0.0003090685929033368,
           0.0000027307144456961935,
           3.6212422294566573e-9,
           0.001596912467469774,
           0.006175171540844576,
           0.01340219121433504,
           0.000009221329400930303,
           4.299904857102085e-8,
           0.000020682065064632877,
           0.000029461205361308828,
           0.0003951597375376375,
           0.000007494481084238248,
           0.00004434420527584383,
           1.898158435914039e-8,
           0.002558749291471631,
           6.825178779467516e-8,
           0.000001614663539731153,
           0.000016442101048312712,
           0.0029442793295075074,
           0.010912661005247378,
           5.082942928646364e-9,
           0.023094061270762176,
           0.005886733040989687,
           0.000017453446938116793,
           6.432306680263071e-7,
           0.004449737527627964,
           0.000013356244579173856,
           2.8767305147723373e-9,
           0.002363009691332939,
           0.020143344474892515,
           0.0003947311598593198,
           0.014228979471992457,
           0.000340154083196592,
           0.00042480493873954804,
           0.000009258567275356562,
           0.0000011085924542800234,
           0.0010454605134020435,
           0.000006161115117968222,
           8.677816762518855e-8,
           0.00005123295542020714,
           0.0000028262842573622107,
           2.769008363253482e-9,
           0.000017751235151913952,
           0.00023032389270947267,
           0.00014343524006874803,
           0.0000108197148685516,
           0.000020732511322043002,
           0.004525175968431683,
           0.000005774185124289246,
           0.0000010439375927922535,
           9.119778264508896e-9,
           0.00001702633082976756,
           0.007001923754330196,
           0.000004622519627824415,
           1.492121748532471e-8,
           0.020420707038035155,
           3.0460268572685964e-11,
           0.000028770615381459546,
           0.0000057796252236717135,
           1.6326573224193267e-8,
           2.9686538531709814e-7,
           0.00000456614904427305,
           9.127700548953121e-8,
           2.6504316361999057e-7,
           0.0000067745854499451816,
           5.936654052509931e-8,
           0.0016663381310030112,
           0.0018779091340039408,
           0.0002948615113161988,
           0.0008996694287066157,
           0.011123253933730747,
           0.000010683145404655981,
           8.28584932021794e-7,
           0.0008187726139280549,
           0.02447065614598006,
           0.003694658621937599,
           0.002899594646147558,
           0.0026239857908726817,
           0.0017048681485858914,
           0.007874379864704554,
           3.6931441509801644e-9,
           3.221598276552361e-9,
           0.0023395590179411977,
           0.00006514626575780732,
           0.0013618977581118371,
           0.0034999338914057884,
           1.3776669625436875e-8,
           3.278727621471948e-10,
           3.4138483270142513e-7,
           0.000005106930586243503,
           6.1291812521966035e-9,
           5.327670923359103e-8,
           3.890024685188169e-9,
           7.799528254570889e-9,
           0.000334593444295343,
           2.2593204804189534e-7,
           6.866037373200165e-7,
           0.0015627387621936233,
           8.805109309768743e-9,
           0.000013616149631481776,
           0.0001814699063582918,
           0.0024700949009872856,
           0.000005560749630208136,
           0.0032757468046897323,
           0.0072871964246076365,
           4.5823748240763445e-9,
           1.673697631917281e-7,
           0.022272177676657023,
           0.0066038293598673845,
           0.000004246749335288953,
           3.124465317112423e-11,
           1.0011518968320078e-7,
           1.4381560881599185e-8,
           4.788126748092686e-7,
           2.2485691821896934e-11,
           2.86797155342311e-9,
           8.986066836628452e-7,
           7.069919847256895e-10,
           0.0015189085553861746,
           0.00024800416223361214,
           0.0013556274063264212,
           0.0057920933514039215,
           0.00021422721489796644,
           5.356836957344366e-7,
           0.00006141185918575709,
           0.016010212244413596,
           0.000005271719201183304,
           0.000041023954033230525,
           0.015218311081457839,
           1.819956598757408e-7,
           0.000006956662032165329,
           0.44400864931592704,
           0.35354016254141607,
           0.16334484876212751,
           0.010912661005247378,
           0.005846405793567405,
           0.022347272581714737,
           1
          ],
          "colorscale": [
           [
            0,
            "rgb(252, 222, 156)"
           ],
           [
            0.16666666666666666,
            "rgb(250, 164, 118)"
           ],
           [
            0.3333333333333333,
            "rgb(240, 116, 110)"
           ],
           [
            0.5,
            "rgb(227, 79, 111)"
           ],
           [
            0.6666666666666666,
            "rgb(220, 57, 119)"
           ],
           [
            0.8333333333333334,
            "rgb(185, 37, 122)"
           ],
           [
            1,
            "rgb(124, 29, 111)"
           ]
          ]
         },
         "maxdepth": 2,
         "name": "",
         "parents": [
          "Asia",
          "Europa",
          "Europa",
          "Europa",
          "América",
          "Asia",
          "África",
          "América",
          "Asia",
          "América",
          "Oceanía",
          "Europa",
          "Asia",
          "América",
          "Asia",
          "Asia",
          "América",
          "Europa",
          "América",
          "África",
          "Europa",
          "América",
          "Europa",
          "África",
          "América",
          "Asia",
          "Europa",
          "África",
          "Asia",
          "Asia",
          "África",
          "América",
          "América",
          "Asia",
          "Europa",
          "América",
          "África",
          "África",
          "Asia",
          "América",
          "África",
          "Europa",
          "América",
          "América",
          "Europa",
          "América",
          "América",
          "África",
          "América",
          "Asia",
          "África",
          "Europa",
          "Europa",
          "Europa",
          "América",
          "Europa",
          "África",
          "Oceanía",
          "Asia",
          "Europa",
          "Europa",
          "África",
          "África",
          "Asia",
          "África",
          "Europa",
          "América",
          "América",
          "África",
          "África",
          "América",
          "América",
          "América",
          "Europa",
          "Indeterminado",
          "Europa",
          "Asia",
          "Asia",
          "Asia",
          "Asia",
          "Europa",
          "Europa",
          "Oceanía",
          "Asia",
          "Europa",
          "América",
          "Asia",
          "Asia",
          "Asia",
          "África",
          "Asia",
          "Asia",
          "Asia",
          "África",
          "Europa",
          "Asia",
          "África",
          "Europa",
          "Europa",
          "Europa",
          "Europa",
          "África",
          "Asia",
          "África",
          "Asia",
          "África",
          "Europa",
          "África",
          "África",
          "África",
          "América",
          "Oceanía",
          "Europa",
          "Europa",
          "Asia",
          "Europa",
          "África",
          "África",
          "Asia",
          "América",
          "África",
          "África",
          "Europa",
          "Oceanía",
          "Asia",
          "Europa",
          "América",
          "Oceanía",
          "Asia",
          "América",
          "América",
          "Europa",
          "Europa",
          "Asia",
          "Europa",
          "África",
          "África",
          "Europa",
          "América",
          "Europa",
          "Europa",
          "África",
          "Oceanía",
          "América",
          "Europa",
          "América",
          "América",
          "África",
          "África",
          "Europa",
          "África",
          "África",
          "Asia",
          "Asia",
          "África",
          "Asia",
          "África",
          "África",
          "Europa",
          "Europa",
          "América",
          "África",
          "Asia",
          "Asia",
          "África",
          "Asia",
          "Oceanía",
          "Europa",
          "América",
          "Oceanía",
          "Oceanía",
          "Asia",
          "Asia",
          "América",
          "África",
          "Asia",
          "Europa",
          "Europa",
          "África",
          "Asia",
          "América",
          "Asia",
          "América",
          "Asia",
          "Asia",
          "África",
          "Importaciones",
          "Importaciones",
          "Importaciones",
          "Importaciones",
          "Importaciones",
          "Importaciones",
          ""
         ],
         "type": "sunburst",
         "values": [
          0.024259210000000003,
          0.99070089,
          2556.35735802,
          0.00951486,
          0.0023888200000000003,
          1086.84217236,
          181.13325452,
          44.30807223,
          0.0864738,
          0.0007021600000000001,
          424.58297981,
          241.91447112,
          0.07611503,
          0.00977816,
          71.50949128,
          21.24973352,
          0.08929394,
          599.49007838,
          0.014769079999999999,
          0.03431973,
          1.05619951,
          2113.6265272,
          2.85627379,
          0.00003733,
          14930.6639581,
          0.09669913000000001,
          33.74668757,
          0.02627618,
          0.0030494,
          19.6040852,
          0.21658621,
          479.12942247999996,
          710.86276143,
          16320.0543334,
          1.18998633,
          447.56214876,
          0.01852676,
          27.832196720000002,
          689.19189385,
          21.00776139,
          1.63882039,
          17.90058287,
          4.51759105,
          0.15884992,
          195.49806049,
          0.01228825,
          337.72512108,
          422.72536324,
          1.2040689900000001,
          860.94512015,
          0.00057359,
          64.17470142,
          26.41792606,
          1192.0184972499999,
          9770.27544262,
          23.64161103,
          0.20888078000000002,
          0.000277,
          122.15276567000001,
          472.35793918999997,
          1025.17499,
          0.70536796,
          0.0032891300000000004,
          1.58203502,
          2.25357857,
          30.226988520000003,
          0.573276,
          3.39202519,
          0.00145196,
          195.72663434999998,
          0.0052207899999999995,
          0.1235106,
          1.2577070799999999,
          225.21701742,
          834.7431369999999,
          0.00038881,
          1766.5360577000001,
          450.29438768,
          1.33506805,
          0.049202699999999995,
          340.37416363,
          1.02166039,
          0.00022005,
          180.75390792,
          1540.8266186,
          30.19420529,
          1088.41857683,
          26.01943617,
          32.4946415,
          0.7082164,
          0.08479966,
          79.9705029,
          0.47128272,
          0.00663793,
          3.91896696,
          0.21619121,
          0.00021181,
          1.35784679,
          17.61818576,
          10.97180442,
          0.8276334,
          1.58589381,
          346.14468291000003,
          0.44168525000000003,
          0.07985401,
          0.0006976,
          1.3023966200000001,
          535.59876889,
          0.3535908,
          0.00114137,
          1562.04293751,
          0.00000233,
          2.20075321,
          0.44210138,
          0.00124887,
          0.02270815,
          0.34927884,
          0.00698206,
          0.020273970000000002,
          0.5182089599999999,
          0.00454113,
          127.46334905,
          143.64706837,
          22.55486749,
          68.81849265,
          850.8520403800001,
          0.81718678,
          0.06338102,
          62.63044549,
          1871.8360504300001,
          282.61584656,
          221.79894801,
          200.71677563,
          130.41062907,
          602.33563079,
          0.0002825,
          0.00024643,
          178.9600935,
          4.98323903,
          104.17576486,
          267.72075064,
          0.00105382,
          0.000025079999999999997,
          0.026113579999999997,
          0.39064488999999997,
          0.00046884,
          0.0040753000000000004,
          0.00029756,
          0.00059661,
          25.59408573,
          0.017282239999999997,
          0.052520439999999995,
          119.53871343,
          0.0006735299999999999,
          1.04154133,
          13.88119349,
          188.94518627,
          0.42535891000000003,
          250.57198812000001,
          557.42015632,
          0.00035052,
          0.01280263,
          1703.66764373,
          505.1472994,
          0.32484697,
          0.00000239,
          0.00765812,
          0.0011000900000000002,
          0.03662586,
          0.00000172,
          0.00021938,
          0.0687372,
          0.00005408,
          116.18600556999999,
          18.97060417,
          103.69612629,
          443.05510559000004,
          16.38690117,
          0.0409761,
          4.6975827400000005,
          1224.67057178,
          0.40325008,
          3.13804892,
          1164.09560655,
          0.01392141,
          0.53213656,
          33963.592620250005,
          27043.378713349997,
          12494.75186693,
          834.7431369999999,
          447.209632,
          1709.4118849,
          76493.08785442999
         ]
        }
       ],
       "layout": {
        "font": {
         "family": "verdana"
        },
        "margin": {
         "b": 20,
         "l": 10,
         "r": 10,
         "t": 70
        },
        "paper_bgcolor": "rgba(0,0,0,0)",
        "separators": ",.",
        "template": {},
        "title": {
         "text": "Principales socios comerciales acumulado hasta noviembre: <br>Importaciones"
        }
       }
      }
     },
     "metadata": {},
     "output_type": "display_data"
    }
   ],
   "source": [
    "def build_hierarchical_dataframe(df, levels, value_column, color_columns=None):\n",
    "    \"\"\"\n",
    "    Build a hierarchy of levels for Sunburst or Treemap charts.\n",
    "\n",
    "    Levels are given starting from the bottom to the top of the hierarchy,\n",
    "    ie the last level corresponds to the root.\n",
    "    \"\"\"\n",
    "    df_all_trees = pd.DataFrame(columns=['id', 'parent', 'value', 'color'])\n",
    "    total_pa_color = df.cif.sum()\n",
    "    for i, level in enumerate(levels):\n",
    "        df_tree = pd.DataFrame(columns=['id', 'parent', 'value', 'color'])\n",
    "        dfg = df.groupby(levels[i:]).sum()\n",
    "        dfg = dfg.reset_index()\n",
    "        df_tree['id'] = dfg[level].copy()\n",
    "        if i < len(levels) - 1:\n",
    "            df_tree['parent'] = dfg[levels[i+1]].copy()\n",
    "        else:\n",
    "            df_tree['parent'] = 'Importaciones'\n",
    "        df_tree['value'] = dfg[value_column]\n",
    "        \n",
    "        df_tree['color'] = dfg[color_columns]/total_pa_color\n",
    "        df_all_trees = df_all_trees.append(df_tree, ignore_index=True)\n",
    "        # df_all_trees = pd.concat([df_all_trees,df_tree] ,ignore_index=True)\n",
    "    total = pd.Series(dict(id='Importaciones', parent='',\n",
    "                              value=df[value_column].sum(),\n",
    "                              color=df[color_columns]\n",
    "                            ))\n",
    "    df_all_trees = df_all_trees.append(total, ignore_index=True)\n",
    "    #para reemplazar el nan del total\n",
    "    df_all_trees.color.iloc[-1] = 1\n",
    "    # df_all_trees =pd.concat([df_all_trees,total], ignore_index=True)\n",
    "    return df_all_trees\n",
    "\n",
    "def plot_sunburst_socios(df_impo, acumulado:bool):\n",
    "    fecha = \"acumulado hasta noviembre\" if acumulado else \"mes de noviembre\"\n",
    "    socios_sas_mensual_tree = build_hierarchical_dataframe(df=df_impo, levels=[\"pais_descri\", \"continente\"],value_column=\"cif\", color_columns = \"cif\")\n",
    "\n",
    "    fig = go.Figure(go.Sunburst(\n",
    "        labels=socios_sas_mensual_tree['id'],\n",
    "        parents=socios_sas_mensual_tree['parent'],\n",
    "        values=socios_sas_mensual_tree['value'],\n",
    "        branchvalues='total',\n",
    "        marker=dict(\n",
    "            colors=socios_sas_mensual_tree['color'],\n",
    "            colorscale='Sunsetdark',\n",
    "            # cmid=average_score\n",
    "            ),\n",
    "        hovertemplate='<b>%{label} </b> <br> CIF: $%{value}<br> Proporcion: %{color:.2%}', #Me jode la proporcion, sí o sí entra por color\n",
    "        name='',\n",
    "        maxdepth=2\n",
    "        ))\n",
    "    fig.update_layout(title_text = f\"Principales socios comerciales {fecha}: <br>Importaciones\", template = None,\n",
    "                    margin = {\"t\":70, \"b\":20, \"l\":10, \"r\":10},separators = \",.\" ,\n",
    "                    #   uniformtext=dict(minsize=10, mode='hide'),\n",
    "                    font_family = \"verdana\",\n",
    "                    paper_bgcolor='rgba(0,0,0,0)',\n",
    "                    ) \n",
    "    \n",
    "    return fig\n",
    "\n",
    "plot_sunburst_socios(socios_sas_impo_mensual, acumulado=False)\n",
    "plot_sunburst_socios(socios_sas_impo_acumulado, acumulado=True)"
   ]
  }
 ],
 "metadata": {
  "kernelspec": {
   "display_name": "Python 3.10.4 ('indec')",
   "language": "python",
   "name": "python3"
  },
  "language_info": {
   "codemirror_mode": {
    "name": "ipython",
    "version": 3
   },
   "file_extension": ".py",
   "mimetype": "text/x-python",
   "name": "python",
   "nbconvert_exporter": "python",
   "pygments_lexer": "ipython3",
   "version": "3.10.4"
  },
  "orig_nbformat": 4,
  "vscode": {
   "interpreter": {
    "hash": "8e76e384a9df139c1746ba138f5ce3f6d0babc035eebae6bb58adb8dce6b6867"
   }
  }
 },
 "nbformat": 4,
 "nbformat_minor": 2
}
